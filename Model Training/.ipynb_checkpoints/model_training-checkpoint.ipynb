{
 "cells": [
  {
   "cell_type": "markdown",
   "metadata": {},
   "source": [
    "# Model Training & Evaluation"
   ]
  },
  {
   "cell_type": "markdown",
   "metadata": {},
   "source": [
    "### 1. Training Sets Preparation   "
   ]
  },
  {
   "cell_type": "code",
   "execution_count": 1,
   "metadata": {},
   "outputs": [],
   "source": [
    "import pandas as pd\n",
    "import numpy as np\n",
    "\n",
    "random_state = 42\n",
    "np.random.seed(random_state)\n"
   ]
  },
  {
   "cell_type": "code",
   "execution_count": 6,
   "metadata": {},
   "outputs": [],
   "source": [
    "from IPython.display import display, HTML\n",
    "def print_ts(name):\n",
    "    # Used for printing status..\n",
    "    chart = HTML('<h4>Processing %s..</h4>' % (name))\n",
    "    display(chart)"
   ]
  },
  {
   "cell_type": "code",
   "execution_count": 2,
   "metadata": {},
   "outputs": [],
   "source": [
    "def get_training_test_df(filename):\n",
    "    df = pd.read_csv(filename)\n",
    "    df['url1'] = df['url1'].apply(lambda x: x.decode('utf8') if type(x) != str else x )\n",
    "    df['url2'] = df['url2'].apply(lambda x: x.decode('utf8') if type(x) != str else x )\n",
    "    return df"
   ]
  },
  {
   "cell_type": "code",
   "execution_count": 3,
   "metadata": {},
   "outputs": [],
   "source": [
    "# Read the csv for each training set into a dataframe\n",
    "ubuntu_df = get_training_test_df(\"training_sets/ubuntu.csv\")\n",
    "bodybuilding_df = get_training_test_df(\"training_sets/bodybuilding.csv\")\n",
    "digitalspy_df = get_training_test_df(\"training_sets/digitalspy.csv\")\n",
    "mozilla_df = get_training_test_df(\"training_sets/mozilla.csv\")\n",
    "\n",
    "training_sets = {\"Ubuntu formus\": {\"df\":ubuntu_df}, \"Bodybuilding\": {\"df\":bodybuilding_df}, \"Digitalspy\": {\"df\":digitalspy_df}, \"Mozilla\": {\"df\":mozilla_df}}\n"
   ]
  },
  {
   "cell_type": "code",
   "execution_count": 5,
   "metadata": {},
   "outputs": [],
   "source": [
    "def extract_url_config(urls):\n",
    "    # get url sequence properties for each training set\n",
    "    # used for converting charaters into numbers\n",
    "    char2idx = dict()\n",
    "    max_url_seq_length = 0\n",
    "    for url in urls:\n",
    "        max_url_seq_length = max(max_url_seq_length, len(url))\n",
    "        for c in url:\n",
    "            if c not in char2idx:\n",
    "                char2idx[c] = len(char2idx)\n",
    "    num_input_tokens = len(char2idx)\n",
    "    idx2char = dict([(idx, c) for c, idx in char2idx.items()])\n",
    "\n",
    "    config = dict()\n",
    "    config['num_input_tokens'] = num_input_tokens\n",
    "    config['char2idx'] = char2idx\n",
    "    config['idx2char'] = idx2char\n",
    "    config['max_url_seq_length'] = max_url_seq_length\n",
    "\n",
    "    return config"
   ]
  },
  {
   "cell_type": "code",
   "execution_count": 6,
   "metadata": {},
   "outputs": [
    {
     "data": {
      "text/html": [
       "<h4>Processing Ubuntu formus..</h4>"
      ],
      "text/plain": [
       "<IPython.core.display.HTML object>"
      ]
     },
     "metadata": {},
     "output_type": "display_data"
    },
    {
     "data": {
      "text/html": [
       "<h4>Processing Bodybuilding..</h4>"
      ],
      "text/plain": [
       "<IPython.core.display.HTML object>"
      ]
     },
     "metadata": {},
     "output_type": "display_data"
    },
    {
     "data": {
      "text/html": [
       "<h4>Processing Digitalspy..</h4>"
      ],
      "text/plain": [
       "<IPython.core.display.HTML object>"
      ]
     },
     "metadata": {},
     "output_type": "display_data"
    },
    {
     "data": {
      "text/html": [
       "<h4>Processing Mozilla..</h4>"
      ],
      "text/plain": [
       "<IPython.core.display.HTML object>"
      ]
     },
     "metadata": {},
     "output_type": "display_data"
    }
   ],
   "source": [
    "for name, training_set in training_sets.items():\n",
    "    print_ts(name)\n",
    "    df = training_set['df']\n",
    "    config = extract_url_config(df['url1'].append(df['url2']))\n",
    "    training_set['config'] = config"
   ]
  },
  {
   "cell_type": "markdown",
   "metadata": {},
   "source": [
    "In here we will convert the training data from string represenation into numbers using the char2idx and idx2char models. After this, we get a training/testing subsets with 80%/20% from the original set."
   ]
  },
  {
   "cell_type": "code",
   "execution_count": 7,
   "metadata": {},
   "outputs": [],
   "source": [
    "from sklearn.model_selection import train_test_split\n",
    "def convert_training_data(training_set):\n",
    "    \n",
    "    config = training_set['config']\n",
    "    df = training_set['df']\n",
    "    \n",
    "    char2idx = config['char2idx']\n",
    "    idx2char = config['idx2char']\n",
    "\n",
    "    X1 = np.zeros(shape=(df.shape[0], config['max_url_seq_length'],))\n",
    "    X2 = np.zeros(shape=(df.shape[0], config['max_url_seq_length'],))\n",
    "    Y = np.zeros(shape=(df.shape[0], 2))\n",
    "    for i in range(df.shape[0]):\n",
    "        url1 = df['url1'].iloc[i]\n",
    "        url2 = df['url2'].iloc[i]\n",
    "        label = int(df['score'].iloc[i])\n",
    "        for idx, c in enumerate(url1):\n",
    "            X1[i, idx] = char2idx[c]\n",
    "        for idx, c in enumerate(url2):\n",
    "            X2[i, idx] = char2idx[c]    \n",
    "        Y[i, label] = 1\n",
    "    \n",
    "    \n",
    "    X1_train, X1_test, X2_train, X2_test,  y_train, y_test = train_test_split(X1, X2, Y, test_size=0.25, random_state=42)\n",
    "    \n",
    "    training_set['X1_train'] = X1_train\n",
    "    training_set['X1_test'] = X1_test\n",
    "    training_set['X2_train'] = X2_train\n",
    "    training_set['X2_test'] = X2_test\n",
    "    training_set['y_train'] = y_train\n",
    "    training_set['y_test'] = y_test\n",
    "    "
   ]
  },
  {
   "cell_type": "code",
   "execution_count": 8,
   "metadata": {},
   "outputs": [
    {
     "data": {
      "text/html": [
       "<h4>Processing Ubuntu formus..</h4>"
      ],
      "text/plain": [
       "<IPython.core.display.HTML object>"
      ]
     },
     "metadata": {},
     "output_type": "display_data"
    },
    {
     "data": {
      "text/html": [
       "<h4>Processing Bodybuilding..</h4>"
      ],
      "text/plain": [
       "<IPython.core.display.HTML object>"
      ]
     },
     "metadata": {},
     "output_type": "display_data"
    },
    {
     "data": {
      "text/html": [
       "<h4>Processing Digitalspy..</h4>"
      ],
      "text/plain": [
       "<IPython.core.display.HTML object>"
      ]
     },
     "metadata": {},
     "output_type": "display_data"
    },
    {
     "data": {
      "text/html": [
       "<h4>Processing Mozilla..</h4>"
      ],
      "text/plain": [
       "<IPython.core.display.HTML object>"
      ]
     },
     "metadata": {},
     "output_type": "display_data"
    }
   ],
   "source": [
    "for name, training_set in training_sets.items():\n",
    "    print_ts(name)\n",
    "    convert_training_data(training_set)"
   ]
  },
  {
   "cell_type": "markdown",
   "metadata": {},
   "source": [
    "### 2. Benchmark Model Training and Evaluation"
   ]
  },
  {
   "cell_type": "code",
   "execution_count": 9,
   "metadata": {},
   "outputs": [
    {
     "data": {
      "text/html": [
       "<h4>Processing Ubuntu formus..</h4>"
      ],
      "text/plain": [
       "<IPython.core.display.HTML object>"
      ]
     },
     "metadata": {},
     "output_type": "display_data"
    },
    {
     "data": {
      "text/plain": [
       "RandomForestClassifier(bootstrap=True, class_weight=None, criterion='gini',\n",
       "            max_depth=4, max_features='auto', max_leaf_nodes=None,\n",
       "            min_impurity_decrease=0.0, min_impurity_split=None,\n",
       "            min_samples_leaf=1, min_samples_split=2,\n",
       "            min_weight_fraction_leaf=0.0, n_estimators=4, n_jobs=1,\n",
       "            oob_score=False, random_state=42, verbose=0, warm_start=False)"
      ]
     },
     "execution_count": 9,
     "metadata": {},
     "output_type": "execute_result"
    },
    {
     "data": {
      "text/plain": [
       "0.9564119988350646"
      ]
     },
     "execution_count": 9,
     "metadata": {},
     "output_type": "execute_result"
    },
    {
     "data": {
      "text/html": [
       "<h4>Processing Bodybuilding..</h4>"
      ],
      "text/plain": [
       "<IPython.core.display.HTML object>"
      ]
     },
     "metadata": {},
     "output_type": "display_data"
    },
    {
     "data": {
      "text/plain": [
       "RandomForestClassifier(bootstrap=True, class_weight=None, criterion='gini',\n",
       "            max_depth=4, max_features='auto', max_leaf_nodes=None,\n",
       "            min_impurity_decrease=0.0, min_impurity_split=None,\n",
       "            min_samples_leaf=1, min_samples_split=2,\n",
       "            min_weight_fraction_leaf=0.0, n_estimators=4, n_jobs=1,\n",
       "            oob_score=False, random_state=42, verbose=0, warm_start=False)"
      ]
     },
     "execution_count": 9,
     "metadata": {},
     "output_type": "execute_result"
    },
    {
     "data": {
      "text/plain": [
       "0.8253755139716371"
      ]
     },
     "execution_count": 9,
     "metadata": {},
     "output_type": "execute_result"
    },
    {
     "data": {
      "text/html": [
       "<h4>Processing Digitalspy..</h4>"
      ],
      "text/plain": [
       "<IPython.core.display.HTML object>"
      ]
     },
     "metadata": {},
     "output_type": "display_data"
    },
    {
     "data": {
      "text/plain": [
       "RandomForestClassifier(bootstrap=True, class_weight=None, criterion='gini',\n",
       "            max_depth=4, max_features='auto', max_leaf_nodes=None,\n",
       "            min_impurity_decrease=0.0, min_impurity_split=None,\n",
       "            min_samples_leaf=1, min_samples_split=2,\n",
       "            min_weight_fraction_leaf=0.0, n_estimators=4, n_jobs=1,\n",
       "            oob_score=False, random_state=42, verbose=0, warm_start=False)"
      ]
     },
     "execution_count": 9,
     "metadata": {},
     "output_type": "execute_result"
    },
    {
     "data": {
      "text/plain": [
       "0.8828869565217391"
      ]
     },
     "execution_count": 9,
     "metadata": {},
     "output_type": "execute_result"
    },
    {
     "data": {
      "text/html": [
       "<h4>Processing Mozilla..</h4>"
      ],
      "text/plain": [
       "<IPython.core.display.HTML object>"
      ]
     },
     "metadata": {},
     "output_type": "display_data"
    },
    {
     "data": {
      "text/plain": [
       "RandomForestClassifier(bootstrap=True, class_weight=None, criterion='gini',\n",
       "            max_depth=4, max_features='auto', max_leaf_nodes=None,\n",
       "            min_impurity_decrease=0.0, min_impurity_split=None,\n",
       "            min_samples_leaf=1, min_samples_split=2,\n",
       "            min_weight_fraction_leaf=0.0, n_estimators=4, n_jobs=1,\n",
       "            oob_score=False, random_state=42, verbose=0, warm_start=False)"
      ]
     },
     "execution_count": 9,
     "metadata": {},
     "output_type": "execute_result"
    },
    {
     "data": {
      "text/plain": [
       "0.89367465080461"
      ]
     },
     "execution_count": 9,
     "metadata": {},
     "output_type": "execute_result"
    }
   ],
   "source": [
    "from sklearn.ensemble import RandomForestClassifier\n",
    "from sklearn.pipeline import Pipeline, FeatureUnion\n",
    "from sklearn.datasets import make_classification\n",
    "\n",
    "# create a random forest classifier to be used as a benchmark\n",
    "clf = RandomForestClassifier(n_estimators=4, max_depth=4, random_state=42)\n",
    "from sklearn.metrics import accuracy_score\n",
    "\n",
    "for name, training_set in training_sets.items():\n",
    "    print_ts(name)\n",
    "    \n",
    "    clf.fit(np.concatenate((training_set['X1_train'], training_set['X2_train']), axis=1) , training_set['y_train'])\n",
    "    \n",
    "    y_pred = clf.predict(np.concatenate((training_set['X1_test'], training_set['X2_test']), axis=1) )\n",
    "    accuracy_score(training_set['y_test'], y_pred)\n"
   ]
  },
  {
   "cell_type": "markdown",
   "metadata": {},
   "source": [
    "### 3. LSTM Model Creation"
   ]
  },
  {
   "cell_type": "code",
   "execution_count": 5,
   "metadata": {},
   "outputs": [
    {
     "name": "stderr",
     "output_type": "stream",
     "text": [
      "/home/ubuntu/anaconda3/envs/tensorflow_p36/lib/python3.6/site-packages/h5py/__init__.py:36: FutureWarning: Conversion of the second argument of issubdtype from `float` to `np.floating` is deprecated. In future, it will be treated as `np.float64 == np.dtype(float).type`.\n",
      "  from ._conv import register_converters as _register_converters\n",
      "Using TensorFlow backend.\n"
     ]
    }
   ],
   "source": [
    "import numpy as np\n",
    "from keras import Sequential, Model\n",
    "from keras.callbacks import ModelCheckpoint\n",
    "from keras.layers import LSTM, Dense,SpatialDropout1D, RepeatVector, Multiply, Permute, Conv1D,MaxPooling1D, Dropout, Embedding,  Activation, Lambda, Concatenate, Flatten, TimeDistributed, Input\n",
    "from sklearn.model_selection import train_test_split\n",
    "from keras import backend as K\n",
    "import keras\n",
    "NB_LSTM_CELLS = 256\n",
    "NB_DENSE_CELLS = 256\n",
    "EMBEDDING_SIZE = 100"
   ]
  },
  {
   "cell_type": "code",
   "execution_count": 3,
   "metadata": {},
   "outputs": [],
   "source": [
    "def create_lstm_model(config):\n",
    "    \n",
    "    url_a = Input(shape=( config['max_url_seq_length'],))\n",
    "    url_b = Input(shape=( config['max_url_seq_length'],))\n",
    "    \n",
    "    first_model = Sequential()\n",
    "    first_model.add(Embedding( input_dim=config['num_input_tokens'], input_length=config['max_url_seq_length'], output_dim=EMBEDDING_SIZE)) # input_length=config['max_url_seq_length'],\n",
    "    \n",
    "    first_model.add(LSTM(NB_LSTM_CELLS, return_sequences=True, dropout=0.2)) \n",
    "    first_model.add(TimeDistributed(Dense(NB_LSTM_CELLS)))\n",
    "    \n",
    "    encoded_a = first_model(url_a)\n",
    "    encoded_b = first_model(url_b)\n",
    "    \n",
    "    merged_vector = keras.layers.concatenate([encoded_a, encoded_b], axis=-1)\n",
    "    merged_vector = Dense(NB_DENSE_CELLS, activation='relu')(merged_vector)\n",
    "\n",
    "    merged_vector = Dropout(0.3)(merged_vector)\n",
    "    merged_vector = Flatten()(merged_vector)\n",
    "    # And add a logistic regression on top\n",
    "    predictions = Dense(2, activation='softmax')(merged_vector)\n",
    "\n",
    "    model = Model(inputs=[url_a, url_b], outputs=predictions)\n",
    "\n",
    "    model.compile(optimizer='adam',\n",
    "                  loss='categorical_crossentropy',\n",
    "                  metrics=['accuracy'])\n",
    "    \n",
    "    model.summary()\n",
    "    return model"
   ]
  },
  {
   "cell_type": "code",
   "execution_count": 12,
   "metadata": {},
   "outputs": [
    {
     "data": {
      "text/html": [
       "<h4>Processing Ubuntu formus..</h4>"
      ],
      "text/plain": [
       "<IPython.core.display.HTML object>"
      ]
     },
     "metadata": {},
     "output_type": "display_data"
    },
    {
     "name": "stdout",
     "output_type": "stream",
     "text": [
      "__________________________________________________________________________________________________\n",
      "Layer (type)                    Output Shape         Param #     Connected to                     \n",
      "==================================================================================================\n",
      "input_1 (InputLayer)            (None, 122)          0                                            \n",
      "__________________________________________________________________________________________________\n",
      "input_2 (InputLayer)            (None, 122)          0                                            \n",
      "__________________________________________________________________________________________________\n",
      "sequential_1 (Sequential)       (None, 122, 256)     436660      input_1[0][0]                    \n",
      "                                                                 input_2[0][0]                    \n",
      "__________________________________________________________________________________________________\n",
      "concatenate_1 (Concatenate)     (None, 122, 512)     0           sequential_1[1][0]               \n",
      "                                                                 sequential_1[2][0]               \n",
      "__________________________________________________________________________________________________\n",
      "dense_2 (Dense)                 (None, 122, 256)     131328      concatenate_1[0][0]              \n",
      "__________________________________________________________________________________________________\n",
      "dropout_1 (Dropout)             (None, 122, 256)     0           dense_2[0][0]                    \n",
      "__________________________________________________________________________________________________\n",
      "flatten_1 (Flatten)             (None, 31232)        0           dropout_1[0][0]                  \n",
      "__________________________________________________________________________________________________\n",
      "dense_3 (Dense)                 (None, 2)            62466       flatten_1[0][0]                  \n",
      "==================================================================================================\n",
      "Total params: 630,454\n",
      "Trainable params: 630,454\n",
      "Non-trainable params: 0\n",
      "__________________________________________________________________________________________________\n"
     ]
    },
    {
     "data": {
      "text/html": [
       "<h4>Processing Bodybuilding..</h4>"
      ],
      "text/plain": [
       "<IPython.core.display.HTML object>"
      ]
     },
     "metadata": {},
     "output_type": "display_data"
    },
    {
     "name": "stdout",
     "output_type": "stream",
     "text": [
      "__________________________________________________________________________________________________\n",
      "Layer (type)                    Output Shape         Param #     Connected to                     \n",
      "==================================================================================================\n",
      "input_3 (InputLayer)            (None, 142)          0                                            \n",
      "__________________________________________________________________________________________________\n",
      "input_4 (InputLayer)            (None, 142)          0                                            \n",
      "__________________________________________________________________________________________________\n",
      "sequential_2 (Sequential)       (None, 142, 256)     435960      input_3[0][0]                    \n",
      "                                                                 input_4[0][0]                    \n",
      "__________________________________________________________________________________________________\n",
      "concatenate_2 (Concatenate)     (None, 142, 512)     0           sequential_2[1][0]               \n",
      "                                                                 sequential_2[2][0]               \n",
      "__________________________________________________________________________________________________\n",
      "dense_5 (Dense)                 (None, 142, 256)     131328      concatenate_2[0][0]              \n",
      "__________________________________________________________________________________________________\n",
      "dropout_2 (Dropout)             (None, 142, 256)     0           dense_5[0][0]                    \n",
      "__________________________________________________________________________________________________\n",
      "flatten_2 (Flatten)             (None, 36352)        0           dropout_2[0][0]                  \n",
      "__________________________________________________________________________________________________\n",
      "dense_6 (Dense)                 (None, 2)            72706       flatten_2[0][0]                  \n",
      "==================================================================================================\n",
      "Total params: 639,994\n",
      "Trainable params: 639,994\n",
      "Non-trainable params: 0\n",
      "__________________________________________________________________________________________________\n"
     ]
    },
    {
     "data": {
      "text/html": [
       "<h4>Processing Digitalspy..</h4>"
      ],
      "text/plain": [
       "<IPython.core.display.HTML object>"
      ]
     },
     "metadata": {},
     "output_type": "display_data"
    },
    {
     "name": "stdout",
     "output_type": "stream",
     "text": [
      "__________________________________________________________________________________________________\n",
      "Layer (type)                    Output Shape         Param #     Connected to                     \n",
      "==================================================================================================\n",
      "input_5 (InputLayer)            (None, 142)          0                                            \n",
      "__________________________________________________________________________________________________\n",
      "input_6 (InputLayer)            (None, 142)          0                                            \n",
      "__________________________________________________________________________________________________\n",
      "sequential_3 (Sequential)       (None, 142, 256)     435360      input_5[0][0]                    \n",
      "                                                                 input_6[0][0]                    \n",
      "__________________________________________________________________________________________________\n",
      "concatenate_3 (Concatenate)     (None, 142, 512)     0           sequential_3[1][0]               \n",
      "                                                                 sequential_3[2][0]               \n",
      "__________________________________________________________________________________________________\n",
      "dense_8 (Dense)                 (None, 142, 256)     131328      concatenate_3[0][0]              \n",
      "__________________________________________________________________________________________________\n",
      "dropout_3 (Dropout)             (None, 142, 256)     0           dense_8[0][0]                    \n",
      "__________________________________________________________________________________________________\n",
      "flatten_3 (Flatten)             (None, 36352)        0           dropout_3[0][0]                  \n",
      "__________________________________________________________________________________________________\n",
      "dense_9 (Dense)                 (None, 2)            72706       flatten_3[0][0]                  \n",
      "==================================================================================================\n",
      "Total params: 639,394\n",
      "Trainable params: 639,394\n",
      "Non-trainable params: 0\n",
      "__________________________________________________________________________________________________\n"
     ]
    },
    {
     "data": {
      "text/html": [
       "<h4>Processing Mozilla..</h4>"
      ],
      "text/plain": [
       "<IPython.core.display.HTML object>"
      ]
     },
     "metadata": {},
     "output_type": "display_data"
    },
    {
     "name": "stdout",
     "output_type": "stream",
     "text": [
      "__________________________________________________________________________________________________\n",
      "Layer (type)                    Output Shape         Param #     Connected to                     \n",
      "==================================================================================================\n",
      "input_7 (InputLayer)            (None, 143)          0                                            \n",
      "__________________________________________________________________________________________________\n",
      "input_8 (InputLayer)            (None, 143)          0                                            \n",
      "__________________________________________________________________________________________________\n",
      "sequential_4 (Sequential)       (None, 143, 256)     436360      input_7[0][0]                    \n",
      "                                                                 input_8[0][0]                    \n",
      "__________________________________________________________________________________________________\n",
      "concatenate_4 (Concatenate)     (None, 143, 512)     0           sequential_4[1][0]               \n",
      "                                                                 sequential_4[2][0]               \n",
      "__________________________________________________________________________________________________\n",
      "dense_11 (Dense)                (None, 143, 256)     131328      concatenate_4[0][0]              \n",
      "__________________________________________________________________________________________________\n",
      "dropout_4 (Dropout)             (None, 143, 256)     0           dense_11[0][0]                   \n",
      "__________________________________________________________________________________________________\n",
      "flatten_4 (Flatten)             (None, 36608)        0           dropout_4[0][0]                  \n",
      "__________________________________________________________________________________________________\n",
      "dense_12 (Dense)                (None, 2)            73218       flatten_4[0][0]                  \n",
      "==================================================================================================\n",
      "Total params: 640,906\n",
      "Trainable params: 640,906\n",
      "Non-trainable params: 0\n",
      "__________________________________________________________________________________________________\n"
     ]
    }
   ],
   "source": [
    "for name, training_set in training_sets.items():\n",
    "    print_ts(name)\n",
    "    training_set['model'] = create_lstm_model(training_set['config'])"
   ]
  },
  {
   "cell_type": "markdown",
   "metadata": {},
   "source": [
    "### 4. LSTM Model Training"
   ]
  },
  {
   "cell_type": "code",
   "execution_count": 14,
   "metadata": {},
   "outputs": [
    {
     "data": {
      "text/html": [
       "<h4>Processing Ubuntu formus..</h4>"
      ],
      "text/plain": [
       "<IPython.core.display.HTML object>"
      ]
     },
     "metadata": {},
     "output_type": "display_data"
    },
    {
     "name": "stdout",
     "output_type": "stream",
     "text": [
      "Train on 30902 samples, validate on 10301 samples\n",
      "Epoch 1/10\n",
      "30902/30902 [==============================] - 77s 2ms/step - loss: 0.1629 - acc: 0.9515 - val_loss: 0.0897 - val_acc: 0.9725\n",
      "Epoch 2/10\n",
      "30902/30902 [==============================] - 74s 2ms/step - loss: 0.0876 - acc: 0.9757 - val_loss: 0.0829 - val_acc: 0.9770\n",
      "Epoch 3/10\n",
      "30902/30902 [==============================] - 74s 2ms/step - loss: 0.0818 - acc: 0.9776 - val_loss: 0.0810 - val_acc: 0.9776\n",
      "Epoch 4/10\n",
      "30902/30902 [==============================] - 74s 2ms/step - loss: 0.0815 - acc: 0.9786 - val_loss: 0.0825 - val_acc: 0.9773\n",
      "Epoch 5/10\n",
      "30902/30902 [==============================] - 73s 2ms/step - loss: 0.0796 - acc: 0.9788 - val_loss: 0.0819 - val_acc: 0.9775\n",
      "Epoch 6/10\n",
      "30902/30902 [==============================] - 74s 2ms/step - loss: 0.0786 - acc: 0.9785 - val_loss: 0.0815 - val_acc: 0.9780\n",
      "Epoch 7/10\n",
      "30902/30902 [==============================] - 74s 2ms/step - loss: 0.0781 - acc: 0.9788 - val_loss: 0.0799 - val_acc: 0.9777\n",
      "Epoch 8/10\n",
      "30902/30902 [==============================] - 74s 2ms/step - loss: 0.0768 - acc: 0.9790 - val_loss: 0.0801 - val_acc: 0.9777\n",
      "Epoch 9/10\n",
      "30902/30902 [==============================] - 73s 2ms/step - loss: 0.0758 - acc: 0.9793 - val_loss: 0.0806 - val_acc: 0.9774\n",
      "Epoch 10/10\n",
      "30902/30902 [==============================] - 74s 2ms/step - loss: 0.0752 - acc: 0.9792 - val_loss: 0.0803 - val_acc: 0.9780\n"
     ]
    },
    {
     "data": {
      "text/html": [
       "<h4>Processing Bodybuilding..</h4>"
      ],
      "text/plain": [
       "<IPython.core.display.HTML object>"
      ]
     },
     "metadata": {},
     "output_type": "display_data"
    },
    {
     "name": "stdout",
     "output_type": "stream",
     "text": [
      "Train on 35751 samples, validate on 11917 samples\n",
      "Epoch 1/10\n",
      "35751/35751 [==============================] - 101s 3ms/step - loss: 0.4166 - acc: 0.8079 - val_loss: 0.3623 - val_acc: 0.8348\n",
      "Epoch 2/10\n",
      "35751/35751 [==============================] - 99s 3ms/step - loss: 0.3410 - acc: 0.8434 - val_loss: 0.3348 - val_acc: 0.8429\n",
      "Epoch 3/10\n",
      "35751/35751 [==============================] - 99s 3ms/step - loss: 0.3310 - acc: 0.8462 - val_loss: 0.3201 - val_acc: 0.8515\n",
      "Epoch 4/10\n",
      "35751/35751 [==============================] - 99s 3ms/step - loss: 0.3130 - acc: 0.8525 - val_loss: 0.2990 - val_acc: 0.8562\n",
      "Epoch 5/10\n",
      "35751/35751 [==============================] - 99s 3ms/step - loss: 0.2993 - acc: 0.8607 - val_loss: 0.2873 - val_acc: 0.8639\n",
      "Epoch 6/10\n",
      "35751/35751 [==============================] - 99s 3ms/step - loss: 0.2839 - acc: 0.8711 - val_loss: 0.2709 - val_acc: 0.8690\n",
      "Epoch 7/10\n",
      "35751/35751 [==============================] - 99s 3ms/step - loss: 0.2697 - acc: 0.8808 - val_loss: 0.2579 - val_acc: 0.8912\n",
      "Epoch 8/10\n",
      "35751/35751 [==============================] - 99s 3ms/step - loss: 0.2487 - acc: 0.8954 - val_loss: 0.2440 - val_acc: 0.8956\n",
      "Epoch 9/10\n",
      "35751/35751 [==============================] - 99s 3ms/step - loss: 0.2294 - acc: 0.9044 - val_loss: 0.2107 - val_acc: 0.9107\n",
      "Epoch 10/10\n",
      "35751/35751 [==============================] - 99s 3ms/step - loss: 0.2023 - acc: 0.9169 - val_loss: 0.1980 - val_acc: 0.9211\n"
     ]
    },
    {
     "data": {
      "text/html": [
       "<h4>Processing Digitalspy..</h4>"
      ],
      "text/plain": [
       "<IPython.core.display.HTML object>"
      ]
     },
     "metadata": {},
     "output_type": "display_data"
    },
    {
     "name": "stdout",
     "output_type": "stream",
     "text": [
      "Train on 86250 samples, validate on 28750 samples\n",
      "Epoch 1/10\n",
      "86250/86250 [==============================] - 241s 3ms/step - loss: 0.3269 - acc: 0.8776 - val_loss: 0.2790 - val_acc: 0.8920\n",
      "Epoch 2/10\n",
      "86250/86250 [==============================] - 238s 3ms/step - loss: 0.2627 - acc: 0.8965 - val_loss: 0.2345 - val_acc: 0.8998\n",
      "Epoch 3/10\n",
      "86250/86250 [==============================] - 238s 3ms/step - loss: 0.2125 - acc: 0.9156 - val_loss: 0.1650 - val_acc: 0.9333\n",
      "Epoch 4/10\n",
      "86250/86250 [==============================] - 238s 3ms/step - loss: 0.1607 - acc: 0.9368 - val_loss: 0.1192 - val_acc: 0.9535\n",
      "Epoch 5/10\n",
      "86250/86250 [==============================] - 238s 3ms/step - loss: 0.1103 - acc: 0.9570 - val_loss: 0.0818 - val_acc: 0.9683\n",
      "Epoch 6/10\n",
      "86250/86250 [==============================] - 237s 3ms/step - loss: 0.0757 - acc: 0.9686 - val_loss: 0.0646 - val_acc: 0.9733\n",
      "Epoch 7/10\n",
      "86250/86250 [==============================] - 238s 3ms/step - loss: 0.0551 - acc: 0.9768 - val_loss: 0.0456 - val_acc: 0.9810\n",
      "Epoch 8/10\n",
      "86250/86250 [==============================] - 238s 3ms/step - loss: 0.0419 - acc: 0.9815 - val_loss: 0.0427 - val_acc: 0.9831\n",
      "Epoch 9/10\n",
      "86250/86250 [==============================] - 238s 3ms/step - loss: 0.0377 - acc: 0.9837 - val_loss: 0.0403 - val_acc: 0.9839\n",
      "Epoch 10/10\n",
      "86250/86250 [==============================] - 237s 3ms/step - loss: 0.0329 - acc: 0.9854 - val_loss: 0.0388 - val_acc: 0.9851\n"
     ]
    },
    {
     "data": {
      "text/html": [
       "<h4>Processing Mozilla..</h4>"
      ],
      "text/plain": [
       "<IPython.core.display.HTML object>"
      ]
     },
     "metadata": {},
     "output_type": "display_data"
    },
    {
     "name": "stdout",
     "output_type": "stream",
     "text": [
      "Train on 112971 samples, validate on 37658 samples\n",
      "Epoch 1/10\n",
      "112971/112971 [==============================] - 317s 3ms/step - loss: 0.2328 - acc: 0.8859 - val_loss: 0.1994 - val_acc: 0.9022\n",
      "Epoch 2/10\n",
      "112971/112971 [==============================] - 315s 3ms/step - loss: 0.1992 - acc: 0.8991 - val_loss: 0.1955 - val_acc: 0.9029\n",
      "Epoch 3/10\n",
      "112971/112971 [==============================] - 315s 3ms/step - loss: 0.1957 - acc: 0.9007 - val_loss: 0.1916 - val_acc: 0.8957\n",
      "Epoch 4/10\n",
      "112971/112971 [==============================] - 316s 3ms/step - loss: 0.1918 - acc: 0.9024 - val_loss: 0.1847 - val_acc: 0.9037\n",
      "Epoch 5/10\n",
      "112971/112971 [==============================] - 314s 3ms/step - loss: 0.1867 - acc: 0.9035 - val_loss: 0.1773 - val_acc: 0.9096\n",
      "Epoch 6/10\n",
      "112971/112971 [==============================] - 316s 3ms/step - loss: 0.1824 - acc: 0.9066 - val_loss: 0.1766 - val_acc: 0.9103\n",
      "Epoch 7/10\n",
      "112971/112971 [==============================] - 314s 3ms/step - loss: 0.1775 - acc: 0.9100 - val_loss: 0.1692 - val_acc: 0.9163\n",
      "Epoch 8/10\n",
      "112971/112971 [==============================] - 314s 3ms/step - loss: 0.1721 - acc: 0.9130 - val_loss: 0.1668 - val_acc: 0.9148\n",
      "Epoch 9/10\n",
      "112971/112971 [==============================] - 313s 3ms/step - loss: 0.1666 - acc: 0.9156 - val_loss: 0.1584 - val_acc: 0.9205\n",
      "Epoch 10/10\n",
      "112971/112971 [==============================] - 313s 3ms/step - loss: 0.1598 - acc: 0.9207 - val_loss: 0.1542 - val_acc: 0.9225\n"
     ]
    }
   ],
   "source": [
    "batch_size = 256\n",
    "epochs = 10\n",
    "from keras.callbacks import ModelCheckpoint\n",
    "\n",
    "for name, training_set in training_sets.items():\n",
    "    print_ts(name)\n",
    "    checkpoint = ModelCheckpoint(\"%s_lstm-weights.h5\" % (name))\n",
    "\n",
    "    history =  training_set['model'].fit([training_set['X1_train'], training_set['X2_train']], training_set['y_train'], batch_size=batch_size, epochs=epochs, verbose=1,\n",
    "                                 validation_data=([training_set['X1_test'], training_set['X2_test']], training_set['y_test']), callbacks=[checkpoint])\n",
    "    training_set['history'] = history\n",
    "    "
   ]
  },
  {
   "cell_type": "markdown",
   "metadata": {},
   "source": [
    "### 5. Model Evaluation"
   ]
  },
  {
   "cell_type": "code",
   "execution_count": 8,
   "metadata": {},
   "outputs": [],
   "source": [
    "from matplotlib import pyplot as aplt\n",
    "# the following functions are used for plotting model training and evalution history\n",
    "\n",
    "def create_history_plot(history, model_name, plt=None):\n",
    "    plt.set_title('Accuracy and Loss (' + model_name + ')')\n",
    "    plt.plot(history['acc'], color='g', label='Train Accuracy')\n",
    "    plt.plot(history['val_acc'], color='b', label='Validation Accuracy')\n",
    "    plt.plot(history['loss'], color='r', label='Train Loss')\n",
    "    plt.plot(history['val_loss'], color='m', label='Validation Loss')\n",
    "    plt.legend(loc='best')\n",
    "\n",
    "\n",
    "def plot_and_save_history(history, model_name, file_path, plt):\n",
    "    create_history_plot(history, model_name, plt)\n",
    "\n",
    "def start_sub_plot():\n",
    "    fig, axes = aplt.subplots(2, 2, figsize=(20, 8))\n",
    "    return fig, axes"
   ]
  },
  {
   "cell_type": "code",
   "execution_count": 10,
   "metadata": {},
   "outputs": [
    {
     "data": {
      "text/html": [
       "<h4>Processing Ubuntu formus..</h4>"
      ],
      "text/plain": [
       "<IPython.core.display.HTML object>"
      ]
     },
     "metadata": {},
     "output_type": "display_data"
    },
    {
     "data": {
      "text/html": [
       "<h4>Processing Bodybuilding..</h4>"
      ],
      "text/plain": [
       "<IPython.core.display.HTML object>"
      ]
     },
     "metadata": {},
     "output_type": "display_data"
    },
    {
     "data": {
      "text/html": [
       "<h4>Processing Digitalspy..</h4>"
      ],
      "text/plain": [
       "<IPython.core.display.HTML object>"
      ]
     },
     "metadata": {},
     "output_type": "display_data"
    },
    {
     "data": {
      "text/html": [
       "<h4>Processing Mozilla..</h4>"
      ],
      "text/plain": [
       "<IPython.core.display.HTML object>"
      ]
     },
     "metadata": {},
     "output_type": "display_data"
    },
    {
     "data": {
      "image/png": "[encoded data removed]",
      "text/plain": [
       "<Figure size 1440x576 with 4 Axes>"
      ]
     },
     "metadata": {},
     "output_type": "display_data"
    }
   ],
   "source": [
    "import pickle\n",
    "fig, axes = start_sub_plot()\n",
    "\n",
    "for i, ts in enumerate(training_sets.items()):\n",
    "    name, training_set  = ts\n",
    "    bin_i = bin(i)[2:]\n",
    "    if len(bin_i) == 1:\n",
    "        bin_i = '0' + bin_i\n",
    "    plt = axes[int(bin_i[0])][int(bin_i[1])]\n",
    "    #read/save history for later evaluation\n",
    "    \n",
    "#     with open('%s_history'%(name), 'rb') as handle:\n",
    "#         training_set['history'] =  pickle.load(handle)\n",
    "#     with open('%s_history'%(name), 'wb') as file_pi:\n",
    "#         pickle.dump(training_set['history'].history, file_pi)\n",
    "\n",
    "    print_ts(name)\n",
    "    plot_and_save_history(training_set['history'],\"%s_lstm_model\" % (name), '%s_lstm_model-history.png' % (name), plt)\n",
    "\n",
    "fig.savefig(\"model_evaluation.png\")"
   ]
  },
  {
   "cell_type": "markdown",
   "metadata": {},
   "source": [
    "Evaluate never seen before training set from ubuntu forums.."
   ]
  },
  {
   "cell_type": "code",
   "execution_count": 6,
   "metadata": {},
   "outputs": [
    {
     "name": "stdout",
     "output_type": "stream",
     "text": [
      "__________________________________________________________________________________________________\n",
      "Layer (type)                    Output Shape         Param #     Connected to                     \n",
      "==================================================================================================\n",
      "input_1 (InputLayer)            (None, 122)          0                                            \n",
      "__________________________________________________________________________________________________\n",
      "input_2 (InputLayer)            (None, 122)          0                                            \n",
      "__________________________________________________________________________________________________\n",
      "sequential_1 (Sequential)       (None, 122, 256)     436660      input_1[0][0]                    \n",
      "                                                                 input_2[0][0]                    \n",
      "__________________________________________________________________________________________________\n",
      "concatenate_1 (Concatenate)     (None, 122, 512)     0           sequential_1[1][0]               \n",
      "                                                                 sequential_1[2][0]               \n",
      "__________________________________________________________________________________________________\n",
      "dense_2 (Dense)                 (None, 122, 256)     131328      concatenate_1[0][0]              \n",
      "__________________________________________________________________________________________________\n",
      "dropout_1 (Dropout)             (None, 122, 256)     0           dense_2[0][0]                    \n",
      "__________________________________________________________________________________________________\n",
      "flatten_1 (Flatten)             (None, 31232)        0           dropout_1[0][0]                  \n",
      "__________________________________________________________________________________________________\n",
      "dense_3 (Dense)                 (None, 2)            62466       flatten_1[0][0]                  \n",
      "==================================================================================================\n",
      "Total params: 630,454\n",
      "Trainable params: 630,454\n",
      "Non-trainable params: 0\n",
      "__________________________________________________________________________________________________\n"
     ]
    }
   ],
   "source": [
    "import json\n",
    "import pandas as pd\n",
    "with open('ubuntu_config.json') as infile: \n",
    "     config = json.load(infile)\n",
    "model = create_lstm_model(config)\n",
    "model.load_weights(\"ubuntu_lstm-weights.h5\")\n",
    "df = pd.read_csv(\"ubuntu_validation.csv\")\n",
    "df['url2'] = df['url2'].apply(lambda x: x.decode('utf8') if type(x) != str else x )\n",
    "df['url1'] = df['url1'].apply(lambda x: x.decode('utf8') if type(x) != str else x )"
   ]
  },
  {
   "cell_type": "code",
   "execution_count": 7,
   "metadata": {},
   "outputs": [],
   "source": [
    "def model_predict(url1, url2):\n",
    "    data_size = 1\n",
    "    X1val = np.zeros(shape=(data_size, config['max_url_seq_length']))\n",
    "    X2val = np.zeros(shape=(data_size, config['max_url_seq_length']))\n",
    "    for idx, c in enumerate(url1):\n",
    "        if c in config['char2idx']:\n",
    "            X1val[0, idx] = config['char2idx'][c]\n",
    "    for idx, c in enumerate(url2):\n",
    "        if c in config['char2idx']:\n",
    "            X2val[0, idx] = config['char2idx'][c]\n",
    "    predicted = model.predict([X1val, X2val])[0]\n",
    "    predicted_label = np.argmax(predicted)\n",
    "\n",
    "    return predicted_label"
   ]
  },
  {
   "cell_type": "code",
   "execution_count": 8,
   "metadata": {},
   "outputs": [
    {
     "name": "stderr",
     "output_type": "stream",
     "text": [
      "3411it [11:12,  5.07it/s]\n"
     ]
    }
   ],
   "source": [
    "from tqdm import tqdm\n",
    "res = []\n",
    "for index,row in tqdm(enumerate(df.iterrows())):\n",
    "    res.append(model_predict(df[\"url1\"].iloc[index], df[\"url2\"].iloc[index]))"
   ]
  },
  {
   "cell_type": "code",
   "execution_count": 18,
   "metadata": {},
   "outputs": [
    {
     "data": {
      "text/plain": [
       "0.7780709469363823"
      ]
     },
     "execution_count": 18,
     "metadata": {},
     "output_type": "execute_result"
    },
    {
     "data": {
      "text/plain": [
       "array([[2520,    4],\n",
       "       [ 753,  134]])"
      ]
     },
     "execution_count": 18,
     "metadata": {},
     "output_type": "execute_result"
    }
   ],
   "source": [
    "from sklearn.metrics import confusion_matrix, accuracy_score\n",
    "accuracy_score(df[\"score\"], res)\n",
    "confusion_matrix(df[\"score\"], res)\n"
   ]
  }
 ],
 "metadata": {
  "kernelspec": {
   "display_name": "Python 3",
   "language": "python",
   "name": "python3"
  },
  "language_info": {
   "codemirror_mode": {
    "name": "ipython",
    "version": 3
   },
   "file_extension": ".py",
   "mimetype": "text/x-python",
   "name": "python",
   "nbconvert_exporter": "python",
   "pygments_lexer": "ipython3",
   "version": "3.6.4"
  }
 },
 "nbformat": 4,
 "nbformat_minor": 2
}
