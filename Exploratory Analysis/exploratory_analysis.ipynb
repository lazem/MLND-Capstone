{
 "cells": [
  {
   "cell_type": "markdown",
   "metadata": {},
   "source": [
    "# Exploratory Analysis and Data Preparation"
   ]
  },
  {
   "cell_type": "markdown",
   "metadata": {},
   "source": [
    "### 1. Exploratory Analysis"
   ]
  },
  {
   "cell_type": "code",
   "execution_count": 1,
   "metadata": {},
   "outputs": [],
   "source": [
    "import pandas as pd\n",
    "import numpy as np\n",
    "import sqlite3\n",
    "from IPython.display import display \n",
    "from IPython.core.interactiveshell import InteractiveShell\n",
    "InteractiveShell.ast_node_interactivity = \"all\"\n",
    "import matplotlib as mpl\n",
    "import matplotlib.pylab as plt\n",
    "import seaborn as sns\n",
    "%matplotlib inline\n"
   ]
  },
  {
   "cell_type": "markdown",
   "metadata": {},
   "source": [
    "The following chart shows the number of crawled pages for each site and their number of URLs pairs."
   ]
  },
  {
   "cell_type": "code",
   "execution_count": 2,
   "metadata": {},
   "outputs": [
    {
     "data": {
      "text/html": [
       "<div>\n",
       "<style scoped>\n",
       "    .dataframe tbody tr th:only-of-type {\n",
       "        vertical-align: middle;\n",
       "    }\n",
       "\n",
       "    .dataframe tbody tr th {\n",
       "        vertical-align: top;\n",
       "    }\n",
       "\n",
       "    .dataframe thead th {\n",
       "        text-align: right;\n",
       "    }\n",
       "</style>\n",
       "<table border=\"1\" class=\"dataframe\">\n",
       "  <thead>\n",
       "    <tr style=\"text-align: right;\">\n",
       "      <th></th>\n",
       "      <th>Name</th>\n",
       "      <th>Pages Count</th>\n",
       "      <th>Scores Count</th>\n",
       "    </tr>\n",
       "  </thead>\n",
       "  <tbody>\n",
       "    <tr>\n",
       "      <th>0</th>\n",
       "      <td>ubuntu</td>\n",
       "      <td>29555</td>\n",
       "      <td>41203</td>\n",
       "    </tr>\n",
       "    <tr>\n",
       "      <th>1</th>\n",
       "      <td>bodybuilding</td>\n",
       "      <td>15182</td>\n",
       "      <td>47668</td>\n",
       "    </tr>\n",
       "    <tr>\n",
       "      <th>2</th>\n",
       "      <td>digitalspys</td>\n",
       "      <td>5969</td>\n",
       "      <td>115000</td>\n",
       "    </tr>\n",
       "    <tr>\n",
       "      <th>3</th>\n",
       "      <td>mozillazine</td>\n",
       "      <td>17495</td>\n",
       "      <td>150629</td>\n",
       "    </tr>\n",
       "  </tbody>\n",
       "</table>\n",
       "</div>"
      ],
      "text/plain": [
       "           Name Pages Count Scores Count\n",
       "0        ubuntu       29555        41203\n",
       "1  bodybuilding       15182        47668\n",
       "2   digitalspys        5969       115000\n",
       "3   mozillazine       17495       150629"
      ]
     },
     "execution_count": 2,
     "metadata": {},
     "output_type": "execute_result"
    }
   ],
   "source": [
    "# create a status dataframe to hold each dataset stats\n",
    "gen_stat_df = pd.DataFrame(columns=[\"Name\", \"Pages Count\", \"Scores Count\"])\n",
    "def add_gen_stat_df(fname):\n",
    "    conn = sqlite3.connect(\"datasets/%s.sqlite\" %  (fname))\n",
    "    df1 = pd.read_sql_query(\"select id from pages;\", conn)\n",
    "    df2 = pd.read_sql_query(\"select score from scores;\", conn)\n",
    "    df2 = df2[np.isfinite(df2['score'])]\n",
    "    global gen_stat_df\n",
    "    gen_stat_df = gen_stat_df.append( [{\"Name\": fname, \"Pages Count\": len(df1), \"Scores Count\":len(df2)}], ignore_index=True)\n",
    "\n",
    "    \n",
    "add_gen_stat_df(\"ubuntu\")\n",
    "add_gen_stat_df(\"bodybuilding\")\n",
    "add_gen_stat_df(\"digitalspys\")\n",
    "add_gen_stat_df(\"mozillazine\")\n",
    "\n",
    "gen_stat_df.head()"
   ]
  },
  {
   "cell_type": "code",
   "execution_count": 12,
   "metadata": {},
   "outputs": [
    {
     "data": {
      "text/plain": [
       "[Text(0,0.5,'Count'), Text(0.5,0,'Dataset')]"
      ]
     },
     "execution_count": 12,
     "metadata": {},
     "output_type": "execute_result"
    },
    {
     "data": {
      "text/plain": [
       "Text(0.5,1,'Count of pages and Urls pairs')"
      ]
     },
     "execution_count": 12,
     "metadata": {},
     "output_type": "execute_result"
    },
    {
     "data": {
      "image/png": "[encoded data removed]",
      "text/plain": [
       "<Figure size 720x720 with 1 Axes>"
      ]
     },
     "metadata": {},
     "output_type": "display_data"
    }
   ],
   "source": [
    "# Show barplot for each dataset\n",
    "current_palette = sns.color_palette(\"deep\", 4)\n",
    "sns.set_palette(current_palette)\n",
    "fig, ax1 = plt.subplots(figsize=(10, 10))\n",
    "tidy = (\n",
    "    gen_stat_df.set_index('Name')\n",
    "      .stack()  # un-pivots the data \n",
    "      .reset_index()  # moves all data out of the index\n",
    "      .rename(columns={'level_1': 'Variable', 0: 'Count'})\n",
    ")\n",
    "\n",
    "sns_plot = sns.barplot(x='Name', y='Count', hue='Variable', data=tidy, ax=ax1)\n",
    "sns.set_style(\"darkgrid\")\n",
    "sns.despine(fig)\n",
    "sns_plot.set(xlabel='Dataset', ylabel='Count');\n",
    "sns_plot.set_title(\"Count of pages and Urls pairs\");\n",
    "fig.savefig(\"barplot.png\")"
   ]
  },
  {
   "cell_type": "markdown",
   "metadata": {},
   "source": [
    "The content_lengths dict will hold each url and its corresponding paage content length"
   ]
  },
  {
   "cell_type": "code",
   "execution_count": 3,
   "metadata": {},
   "outputs": [],
   "source": [
    "def get_content_length(fname):\n",
    "    conn = sqlite3.connect(\"datasets/%s.sqlite\" %  (fname))\n",
    "    df = pd.read_sql_query(\"select url, LENGTH(content_text) from pages;\", conn)\n",
    "    \n",
    "    return df\n",
    "    \n",
    "content_lengths = {\"ubuntu\": get_content_length(\"ubuntu\"), \"bodybuilding\": get_content_length(\"bodybuilding\"), \"digitalspy\": get_content_length(\"digitalspys\"), \"mozilla\": get_content_length(\"mozillazine\")}\n"
   ]
  },
  {
   "cell_type": "code",
   "execution_count": 6,
   "metadata": {},
   "outputs": [],
   "source": [
    "def get_df(fname):\n",
    "    conn = sqlite3.connect(fname)\n",
    "    df = pd.read_sql_query(\"select url1, url2, struct_score, sem_score, score from scores;\", conn)\n",
    "    \n",
    "    df['url1'] = df['url1'].apply(lambda x: x.decode('utf8') if type(x) != str else x )\n",
    "    df['url2'] = df['url2'].apply(lambda x: x.decode('utf8') if type(x) != str else x )\n",
    "    \n",
    "    df = df[np.isfinite(df['score'])]\n",
    "    return df"
   ]
  },
  {
   "cell_type": "code",
   "execution_count": 7,
   "metadata": {},
   "outputs": [],
   "source": [
    "# main dataframe holding the scores table records\n",
    "ubuntu_df = get_df(\"datasets/ubuntu.sqlite\")\n",
    "bodybuilding_df = get_df(\"datasets/bodybuilding.sqlite\")\n",
    "digitalspy_df = get_df(\"datasets/digitalspys.sqlite\")\n",
    "mozilla_df = get_df(\"datasets/mozillazine.sqlite\")\n",
    "\n",
    "datasets = {\"ubuntu\": ubuntu_df, \"bodybuilding\": bodybuilding_df, \"digitalspy\": digitalspy_df, \"mozilla\": mozilla_df}\n"
   ]
  },
  {
   "cell_type": "markdown",
   "metadata": {},
   "source": [
    "Showing various statistics for each score dataset "
   ]
  },
  {
   "cell_type": "code",
   "execution_count": 13,
   "metadata": {},
   "outputs": [
    {
     "data": {
      "text/plain": [
       "<Figure size 1200x800 with 0 Axes>"
      ]
     },
     "execution_count": 13,
     "metadata": {},
     "output_type": "execute_result"
    },
    {
     "name": "stdout",
     "output_type": "stream",
     "text": [
      "ubuntu\n"
     ]
    },
    {
     "data": {
      "text/html": [
       "<div>\n",
       "<style scoped>\n",
       "    .dataframe tbody tr th:only-of-type {\n",
       "        vertical-align: middle;\n",
       "    }\n",
       "\n",
       "    .dataframe tbody tr th {\n",
       "        vertical-align: top;\n",
       "    }\n",
       "\n",
       "    .dataframe thead th {\n",
       "        text-align: right;\n",
       "    }\n",
       "</style>\n",
       "<table border=\"1\" class=\"dataframe\">\n",
       "  <thead>\n",
       "    <tr style=\"text-align: right;\">\n",
       "      <th></th>\n",
       "      <th>url1</th>\n",
       "      <th>url2</th>\n",
       "      <th>struct_score</th>\n",
       "      <th>sem_score</th>\n",
       "      <th>score</th>\n",
       "    </tr>\n",
       "  </thead>\n",
       "  <tbody>\n",
       "    <tr>\n",
       "      <th>0</th>\n",
       "      <td>https://ubuntuforums.org/forumdisplay.php?f=130</td>\n",
       "      <td>https://ubuntuforums.org/showthread.php?t=1293779</td>\n",
       "      <td>0.337465</td>\n",
       "      <td>0.951408</td>\n",
       "      <td>0.644436</td>\n",
       "    </tr>\n",
       "    <tr>\n",
       "      <th>1</th>\n",
       "      <td>https://ubuntuforums.org/forumdisplay.php?f=130</td>\n",
       "      <td>https://ubuntuforums.org/showthread.php?t=760568</td>\n",
       "      <td>0.259467</td>\n",
       "      <td>0.427136</td>\n",
       "      <td>0.343302</td>\n",
       "    </tr>\n",
       "    <tr>\n",
       "      <th>2</th>\n",
       "      <td>https://ubuntuforums.org/forumdisplay.php?f=130</td>\n",
       "      <td>https://ubuntuforums.org/showthread.php?t=7261...</td>\n",
       "      <td>0.209940</td>\n",
       "      <td>0.837926</td>\n",
       "      <td>0.523933</td>\n",
       "    </tr>\n",
       "    <tr>\n",
       "      <th>3</th>\n",
       "      <td>https://ubuntuforums.org/forumdisplay.php?f=130</td>\n",
       "      <td>https://discourse.ubuntu.com/</td>\n",
       "      <td>0.026293</td>\n",
       "      <td>0.297188</td>\n",
       "      <td>0.161741</td>\n",
       "    </tr>\n",
       "    <tr>\n",
       "      <th>4</th>\n",
       "      <td>https://ubuntuforums.org/forumdisplay.php?f=130</td>\n",
       "      <td>https://ubuntuforums.org/showthread.php?t=153402</td>\n",
       "      <td>0.322236</td>\n",
       "      <td>0.901640</td>\n",
       "      <td>0.611938</td>\n",
       "    </tr>\n",
       "  </tbody>\n",
       "</table>\n",
       "</div>"
      ],
      "text/plain": [
       "                                              url1  \\\n",
       "0  https://ubuntuforums.org/forumdisplay.php?f=130   \n",
       "1  https://ubuntuforums.org/forumdisplay.php?f=130   \n",
       "2  https://ubuntuforums.org/forumdisplay.php?f=130   \n",
       "3  https://ubuntuforums.org/forumdisplay.php?f=130   \n",
       "4  https://ubuntuforums.org/forumdisplay.php?f=130   \n",
       "\n",
       "                                                url2  struct_score  sem_score  \\\n",
       "0  https://ubuntuforums.org/showthread.php?t=1293779      0.337465   0.951408   \n",
       "1   https://ubuntuforums.org/showthread.php?t=760568      0.259467   0.427136   \n",
       "2  https://ubuntuforums.org/showthread.php?t=7261...      0.209940   0.837926   \n",
       "3                      https://discourse.ubuntu.com/      0.026293   0.297188   \n",
       "4   https://ubuntuforums.org/showthread.php?t=153402      0.322236   0.901640   \n",
       "\n",
       "      score  \n",
       "0  0.644436  \n",
       "1  0.343302  \n",
       "2  0.523933  \n",
       "3  0.161741  \n",
       "4  0.611938  "
      ]
     },
     "metadata": {},
     "output_type": "execute_result"
    },
    {
     "data": {
      "text/html": [
       "<div>\n",
       "<style scoped>\n",
       "    .dataframe tbody tr th:only-of-type {\n",
       "        vertical-align: middle;\n",
       "    }\n",
       "\n",
       "    .dataframe tbody tr th {\n",
       "        vertical-align: top;\n",
       "    }\n",
       "\n",
       "    .dataframe thead th {\n",
       "        text-align: right;\n",
       "    }\n",
       "</style>\n",
       "<table border=\"1\" class=\"dataframe\">\n",
       "  <thead>\n",
       "    <tr style=\"text-align: right;\">\n",
       "      <th></th>\n",
       "      <th>url1</th>\n",
       "      <th>url2</th>\n",
       "      <th>struct_score</th>\n",
       "      <th>sem_score</th>\n",
       "      <th>score</th>\n",
       "    </tr>\n",
       "  </thead>\n",
       "  <tbody>\n",
       "    <tr>\n",
       "      <th>41198</th>\n",
       "      <td>https://ubuntuforums.org/showthread.php?t=4208...</td>\n",
       "      <td>https://ubuntuforums.org/showthread.php?t=4210...</td>\n",
       "      <td>0.996462</td>\n",
       "      <td>0.999946</td>\n",
       "      <td>0.998204</td>\n",
       "    </tr>\n",
       "    <tr>\n",
       "      <th>41199</th>\n",
       "      <td>https://ubuntuforums.org/showthread.php?t=1571...</td>\n",
       "      <td>https://ubuntuforums.org/showthread.php?t=1575...</td>\n",
       "      <td>0.902971</td>\n",
       "      <td>0.958959</td>\n",
       "      <td>0.930965</td>\n",
       "    </tr>\n",
       "    <tr>\n",
       "      <th>41200</th>\n",
       "      <td>https://ubuntuforums.org/showthread.php?t=1579...</td>\n",
       "      <td>https://ubuntuforums.org/showthread.php?t=1575...</td>\n",
       "      <td>0.996015</td>\n",
       "      <td>0.999941</td>\n",
       "      <td>0.997978</td>\n",
       "    </tr>\n",
       "    <tr>\n",
       "      <th>41201</th>\n",
       "      <td>https://ubuntuforums.org/showthread.php?t=1403...</td>\n",
       "      <td>https://ubuntuforums.org/showthread.php?t=2378...</td>\n",
       "      <td>0.851537</td>\n",
       "      <td>0.883798</td>\n",
       "      <td>0.867667</td>\n",
       "    </tr>\n",
       "    <tr>\n",
       "      <th>41202</th>\n",
       "      <td>https://ubuntuforums.org/showthread.php?t=5032...</td>\n",
       "      <td>https://ubuntuforums.org/showthread.php?t=2378...</td>\n",
       "      <td>0.996142</td>\n",
       "      <td>0.999947</td>\n",
       "      <td>0.998045</td>\n",
       "    </tr>\n",
       "  </tbody>\n",
       "</table>\n",
       "</div>"
      ],
      "text/plain": [
       "                                                    url1  \\\n",
       "41198  https://ubuntuforums.org/showthread.php?t=4208...   \n",
       "41199  https://ubuntuforums.org/showthread.php?t=1571...   \n",
       "41200  https://ubuntuforums.org/showthread.php?t=1579...   \n",
       "41201  https://ubuntuforums.org/showthread.php?t=1403...   \n",
       "41202  https://ubuntuforums.org/showthread.php?t=5032...   \n",
       "\n",
       "                                                    url2  struct_score  \\\n",
       "41198  https://ubuntuforums.org/showthread.php?t=4210...      0.996462   \n",
       "41199  https://ubuntuforums.org/showthread.php?t=1575...      0.902971   \n",
       "41200  https://ubuntuforums.org/showthread.php?t=1575...      0.996015   \n",
       "41201  https://ubuntuforums.org/showthread.php?t=2378...      0.851537   \n",
       "41202  https://ubuntuforums.org/showthread.php?t=2378...      0.996142   \n",
       "\n",
       "       sem_score     score  \n",
       "41198   0.999946  0.998204  \n",
       "41199   0.958959  0.930965  \n",
       "41200   0.999941  0.997978  \n",
       "41201   0.883798  0.867667  \n",
       "41202   0.999947  0.998045  "
      ]
     },
     "metadata": {},
     "output_type": "execute_result"
    },
    {
     "data": {
      "text/html": [
       "<div>\n",
       "<style scoped>\n",
       "    .dataframe tbody tr th:only-of-type {\n",
       "        vertical-align: middle;\n",
       "    }\n",
       "\n",
       "    .dataframe tbody tr th {\n",
       "        vertical-align: top;\n",
       "    }\n",
       "\n",
       "    .dataframe thead th {\n",
       "        text-align: right;\n",
       "    }\n",
       "</style>\n",
       "<table border=\"1\" class=\"dataframe\">\n",
       "  <thead>\n",
       "    <tr style=\"text-align: right;\">\n",
       "      <th></th>\n",
       "      <th>struct_score</th>\n",
       "      <th>sem_score</th>\n",
       "      <th>score</th>\n",
       "    </tr>\n",
       "  </thead>\n",
       "  <tbody>\n",
       "    <tr>\n",
       "      <th>count</th>\n",
       "      <td>41203.000000</td>\n",
       "      <td>41203.000000</td>\n",
       "      <td>41203.000000</td>\n",
       "    </tr>\n",
       "    <tr>\n",
       "      <th>mean</th>\n",
       "      <td>0.677377</td>\n",
       "      <td>0.782548</td>\n",
       "      <td>0.729963</td>\n",
       "    </tr>\n",
       "    <tr>\n",
       "      <th>std</th>\n",
       "      <td>0.307755</td>\n",
       "      <td>0.279295</td>\n",
       "      <td>0.272233</td>\n",
       "    </tr>\n",
       "    <tr>\n",
       "      <th>min</th>\n",
       "      <td>0.001939</td>\n",
       "      <td>0.002536</td>\n",
       "      <td>0.007479</td>\n",
       "    </tr>\n",
       "    <tr>\n",
       "      <th>25%</th>\n",
       "      <td>0.323282</td>\n",
       "      <td>0.761808</td>\n",
       "      <td>0.602276</td>\n",
       "    </tr>\n",
       "    <tr>\n",
       "      <th>50%</th>\n",
       "      <td>0.840431</td>\n",
       "      <td>0.911302</td>\n",
       "      <td>0.845229</td>\n",
       "    </tr>\n",
       "    <tr>\n",
       "      <th>75%</th>\n",
       "      <td>0.930547</td>\n",
       "      <td>0.969011</td>\n",
       "      <td>0.940291</td>\n",
       "    </tr>\n",
       "    <tr>\n",
       "      <th>max</th>\n",
       "      <td>1.000000</td>\n",
       "      <td>1.000000</td>\n",
       "      <td>1.000000</td>\n",
       "    </tr>\n",
       "  </tbody>\n",
       "</table>\n",
       "</div>"
      ],
      "text/plain": [
       "       struct_score     sem_score         score\n",
       "count  41203.000000  41203.000000  41203.000000\n",
       "mean       0.677377      0.782548      0.729963\n",
       "std        0.307755      0.279295      0.272233\n",
       "min        0.001939      0.002536      0.007479\n",
       "25%        0.323282      0.761808      0.602276\n",
       "50%        0.840431      0.911302      0.845229\n",
       "75%        0.930547      0.969011      0.940291\n",
       "max        1.000000      1.000000      1.000000"
      ]
     },
     "metadata": {},
     "output_type": "execute_result"
    },
    {
     "name": "stdout",
     "output_type": "stream",
     "text": [
      "bodybuilding\n"
     ]
    },
    {
     "data": {
      "text/html": [
       "<div>\n",
       "<style scoped>\n",
       "    .dataframe tbody tr th:only-of-type {\n",
       "        vertical-align: middle;\n",
       "    }\n",
       "\n",
       "    .dataframe tbody tr th {\n",
       "        vertical-align: top;\n",
       "    }\n",
       "\n",
       "    .dataframe thead th {\n",
       "        text-align: right;\n",
       "    }\n",
       "</style>\n",
       "<table border=\"1\" class=\"dataframe\">\n",
       "  <thead>\n",
       "    <tr style=\"text-align: right;\">\n",
       "      <th></th>\n",
       "      <th>url1</th>\n",
       "      <th>url2</th>\n",
       "      <th>struct_score</th>\n",
       "      <th>sem_score</th>\n",
       "      <th>score</th>\n",
       "    </tr>\n",
       "  </thead>\n",
       "  <tbody>\n",
       "    <tr>\n",
       "      <th>0</th>\n",
       "      <td>https://forum.bodybuilding.com</td>\n",
       "      <td>https://forum.bodybuilding.com/archive/index.p...</td>\n",
       "      <td>0.026921</td>\n",
       "      <td>0.309819</td>\n",
       "      <td>0.168370</td>\n",
       "    </tr>\n",
       "    <tr>\n",
       "      <th>1</th>\n",
       "      <td>https://forum.bodybuilding.com</td>\n",
       "      <td>https://bodyspace.bodybuilding.com/</td>\n",
       "      <td>0.213915</td>\n",
       "      <td>0.445004</td>\n",
       "      <td>0.329459</td>\n",
       "    </tr>\n",
       "    <tr>\n",
       "      <th>2</th>\n",
       "      <td>https://forum.bodybuilding.com</td>\n",
       "      <td>https://forum.bodybuilding.com/search.php?sear...</td>\n",
       "      <td>0.724299</td>\n",
       "      <td>0.597201</td>\n",
       "      <td>0.660750</td>\n",
       "    </tr>\n",
       "    <tr>\n",
       "      <th>3</th>\n",
       "      <td>https://forum.bodybuilding.com</td>\n",
       "      <td>https://forum.bodybuilding.com/showthread.php?...</td>\n",
       "      <td>0.558220</td>\n",
       "      <td>0.655454</td>\n",
       "      <td>0.606837</td>\n",
       "    </tr>\n",
       "    <tr>\n",
       "      <th>4</th>\n",
       "      <td>https://forum.bodybuilding.com</td>\n",
       "      <td>https://forum.bodybuilding.com/showthread.php?...</td>\n",
       "      <td>0.540591</td>\n",
       "      <td>0.655663</td>\n",
       "      <td>0.598127</td>\n",
       "    </tr>\n",
       "  </tbody>\n",
       "</table>\n",
       "</div>"
      ],
      "text/plain": [
       "                             url1  \\\n",
       "0  https://forum.bodybuilding.com   \n",
       "1  https://forum.bodybuilding.com   \n",
       "2  https://forum.bodybuilding.com   \n",
       "3  https://forum.bodybuilding.com   \n",
       "4  https://forum.bodybuilding.com   \n",
       "\n",
       "                                                url2  struct_score  sem_score  \\\n",
       "0  https://forum.bodybuilding.com/archive/index.p...      0.026921   0.309819   \n",
       "1                https://bodyspace.bodybuilding.com/      0.213915   0.445004   \n",
       "2  https://forum.bodybuilding.com/search.php?sear...      0.724299   0.597201   \n",
       "3  https://forum.bodybuilding.com/showthread.php?...      0.558220   0.655454   \n",
       "4  https://forum.bodybuilding.com/showthread.php?...      0.540591   0.655663   \n",
       "\n",
       "      score  \n",
       "0  0.168370  \n",
       "1  0.329459  \n",
       "2  0.660750  \n",
       "3  0.606837  \n",
       "4  0.598127  "
      ]
     },
     "metadata": {},
     "output_type": "execute_result"
    },
    {
     "data": {
      "text/html": [
       "<div>\n",
       "<style scoped>\n",
       "    .dataframe tbody tr th:only-of-type {\n",
       "        vertical-align: middle;\n",
       "    }\n",
       "\n",
       "    .dataframe tbody tr th {\n",
       "        vertical-align: top;\n",
       "    }\n",
       "\n",
       "    .dataframe thead th {\n",
       "        text-align: right;\n",
       "    }\n",
       "</style>\n",
       "<table border=\"1\" class=\"dataframe\">\n",
       "  <thead>\n",
       "    <tr style=\"text-align: right;\">\n",
       "      <th></th>\n",
       "      <th>url1</th>\n",
       "      <th>url2</th>\n",
       "      <th>struct_score</th>\n",
       "      <th>sem_score</th>\n",
       "      <th>score</th>\n",
       "    </tr>\n",
       "  </thead>\n",
       "  <tbody>\n",
       "    <tr>\n",
       "      <th>47663</th>\n",
       "      <td>https://forum.bodybuilding.com/showthread.php?...</td>\n",
       "      <td>https://forum.bodybuilding.com/showthread.php?...</td>\n",
       "      <td>0.890071</td>\n",
       "      <td>1.0</td>\n",
       "      <td>0.945035</td>\n",
       "    </tr>\n",
       "    <tr>\n",
       "      <th>47664</th>\n",
       "      <td>https://forum.bodybuilding.com/showthread.php?...</td>\n",
       "      <td>https://forum.bodybuilding.com/showthread.php?...</td>\n",
       "      <td>0.890071</td>\n",
       "      <td>1.0</td>\n",
       "      <td>0.945035</td>\n",
       "    </tr>\n",
       "    <tr>\n",
       "      <th>47665</th>\n",
       "      <td>https://forum.bodybuilding.com/showthread.php?...</td>\n",
       "      <td>https://forum.bodybuilding.com/showthread.php?...</td>\n",
       "      <td>0.890071</td>\n",
       "      <td>1.0</td>\n",
       "      <td>0.945035</td>\n",
       "    </tr>\n",
       "    <tr>\n",
       "      <th>47666</th>\n",
       "      <td>https://forum.bodybuilding.com/showthread.php?...</td>\n",
       "      <td>https://forum.bodybuilding.com/showthread.php?...</td>\n",
       "      <td>0.890071</td>\n",
       "      <td>1.0</td>\n",
       "      <td>0.945035</td>\n",
       "    </tr>\n",
       "    <tr>\n",
       "      <th>47667</th>\n",
       "      <td>https://forum.bodybuilding.com/showthread.php?...</td>\n",
       "      <td>https://forum.bodybuilding.com/showthread.php?...</td>\n",
       "      <td>0.890071</td>\n",
       "      <td>1.0</td>\n",
       "      <td>0.945035</td>\n",
       "    </tr>\n",
       "  </tbody>\n",
       "</table>\n",
       "</div>"
      ],
      "text/plain": [
       "                                                    url1  \\\n",
       "47663  https://forum.bodybuilding.com/showthread.php?...   \n",
       "47664  https://forum.bodybuilding.com/showthread.php?...   \n",
       "47665  https://forum.bodybuilding.com/showthread.php?...   \n",
       "47666  https://forum.bodybuilding.com/showthread.php?...   \n",
       "47667  https://forum.bodybuilding.com/showthread.php?...   \n",
       "\n",
       "                                                    url2  struct_score  \\\n",
       "47663  https://forum.bodybuilding.com/showthread.php?...      0.890071   \n",
       "47664  https://forum.bodybuilding.com/showthread.php?...      0.890071   \n",
       "47665  https://forum.bodybuilding.com/showthread.php?...      0.890071   \n",
       "47666  https://forum.bodybuilding.com/showthread.php?...      0.890071   \n",
       "47667  https://forum.bodybuilding.com/showthread.php?...      0.890071   \n",
       "\n",
       "       sem_score     score  \n",
       "47663        1.0  0.945035  \n",
       "47664        1.0  0.945035  \n",
       "47665        1.0  0.945035  \n",
       "47666        1.0  0.945035  \n",
       "47667        1.0  0.945035  "
      ]
     },
     "metadata": {},
     "output_type": "execute_result"
    },
    {
     "data": {
      "text/html": [
       "<div>\n",
       "<style scoped>\n",
       "    .dataframe tbody tr th:only-of-type {\n",
       "        vertical-align: middle;\n",
       "    }\n",
       "\n",
       "    .dataframe tbody tr th {\n",
       "        vertical-align: top;\n",
       "    }\n",
       "\n",
       "    .dataframe thead th {\n",
       "        text-align: right;\n",
       "    }\n",
       "</style>\n",
       "<table border=\"1\" class=\"dataframe\">\n",
       "  <thead>\n",
       "    <tr style=\"text-align: right;\">\n",
       "      <th></th>\n",
       "      <th>struct_score</th>\n",
       "      <th>sem_score</th>\n",
       "      <th>score</th>\n",
       "    </tr>\n",
       "  </thead>\n",
       "  <tbody>\n",
       "    <tr>\n",
       "      <th>count</th>\n",
       "      <td>47668.000000</td>\n",
       "      <td>47668.000000</td>\n",
       "      <td>47668.000000</td>\n",
       "    </tr>\n",
       "    <tr>\n",
       "      <th>mean</th>\n",
       "      <td>0.851848</td>\n",
       "      <td>0.822666</td>\n",
       "      <td>0.837257</td>\n",
       "    </tr>\n",
       "    <tr>\n",
       "      <th>std</th>\n",
       "      <td>0.154250</td>\n",
       "      <td>0.168091</td>\n",
       "      <td>0.153127</td>\n",
       "    </tr>\n",
       "    <tr>\n",
       "      <th>min</th>\n",
       "      <td>0.001947</td>\n",
       "      <td>0.000000</td>\n",
       "      <td>0.001218</td>\n",
       "    </tr>\n",
       "    <tr>\n",
       "      <th>25%</th>\n",
       "      <td>0.782766</td>\n",
       "      <td>0.713941</td>\n",
       "      <td>0.752947</td>\n",
       "    </tr>\n",
       "    <tr>\n",
       "      <th>50%</th>\n",
       "      <td>0.876383</td>\n",
       "      <td>0.835386</td>\n",
       "      <td>0.849081</td>\n",
       "    </tr>\n",
       "    <tr>\n",
       "      <th>75%</th>\n",
       "      <td>1.000000</td>\n",
       "      <td>1.000000</td>\n",
       "      <td>1.000000</td>\n",
       "    </tr>\n",
       "    <tr>\n",
       "      <th>max</th>\n",
       "      <td>1.000000</td>\n",
       "      <td>1.000000</td>\n",
       "      <td>1.000000</td>\n",
       "    </tr>\n",
       "  </tbody>\n",
       "</table>\n",
       "</div>"
      ],
      "text/plain": [
       "       struct_score     sem_score         score\n",
       "count  47668.000000  47668.000000  47668.000000\n",
       "mean       0.851848      0.822666      0.837257\n",
       "std        0.154250      0.168091      0.153127\n",
       "min        0.001947      0.000000      0.001218\n",
       "25%        0.782766      0.713941      0.752947\n",
       "50%        0.876383      0.835386      0.849081\n",
       "75%        1.000000      1.000000      1.000000\n",
       "max        1.000000      1.000000      1.000000"
      ]
     },
     "metadata": {},
     "output_type": "execute_result"
    },
    {
     "name": "stdout",
     "output_type": "stream",
     "text": [
      "digitalspy\n"
     ]
    },
    {
     "data": {
      "text/html": [
       "<div>\n",
       "<style scoped>\n",
       "    .dataframe tbody tr th:only-of-type {\n",
       "        vertical-align: middle;\n",
       "    }\n",
       "\n",
       "    .dataframe tbody tr th {\n",
       "        vertical-align: top;\n",
       "    }\n",
       "\n",
       "    .dataframe thead th {\n",
       "        text-align: right;\n",
       "    }\n",
       "</style>\n",
       "<table border=\"1\" class=\"dataframe\">\n",
       "  <thead>\n",
       "    <tr style=\"text-align: right;\">\n",
       "      <th></th>\n",
       "      <th>url1</th>\n",
       "      <th>url2</th>\n",
       "      <th>struct_score</th>\n",
       "      <th>sem_score</th>\n",
       "      <th>score</th>\n",
       "    </tr>\n",
       "  </thead>\n",
       "  <tbody>\n",
       "    <tr>\n",
       "      <th>0</th>\n",
       "      <td>https://forums.digitalspy.com/categories/music</td>\n",
       "      <td>https://forums.digitalspy.com/discussion/23030...</td>\n",
       "      <td>0.333277</td>\n",
       "      <td>0.340897</td>\n",
       "      <td>0.337087</td>\n",
       "    </tr>\n",
       "    <tr>\n",
       "      <th>1</th>\n",
       "      <td>https://forums.digitalspy.com/categories/music</td>\n",
       "      <td>https://forums.digitalspy.com/discussion/23030...</td>\n",
       "      <td>0.302892</td>\n",
       "      <td>0.394270</td>\n",
       "      <td>0.348581</td>\n",
       "    </tr>\n",
       "    <tr>\n",
       "      <th>2</th>\n",
       "      <td>https://forums.digitalspy.com/categories/music</td>\n",
       "      <td>https://forums.digitalspy.com/categories/music...</td>\n",
       "      <td>0.546303</td>\n",
       "      <td>0.711650</td>\n",
       "      <td>0.628976</td>\n",
       "    </tr>\n",
       "    <tr>\n",
       "      <th>3</th>\n",
       "      <td>https://forums.digitalspy.com/categories/music</td>\n",
       "      <td>https://forums.digitalspy.com/categories/stric...</td>\n",
       "      <td>0.521737</td>\n",
       "      <td>0.759594</td>\n",
       "      <td>0.640665</td>\n",
       "    </tr>\n",
       "    <tr>\n",
       "      <th>4</th>\n",
       "      <td>https://forums.digitalspy.com/categories/music</td>\n",
       "      <td>https://forums.digitalspy.com/categories/music...</td>\n",
       "      <td>0.542990</td>\n",
       "      <td>0.772409</td>\n",
       "      <td>0.657699</td>\n",
       "    </tr>\n",
       "  </tbody>\n",
       "</table>\n",
       "</div>"
      ],
      "text/plain": [
       "                                             url1  \\\n",
       "0  https://forums.digitalspy.com/categories/music   \n",
       "1  https://forums.digitalspy.com/categories/music   \n",
       "2  https://forums.digitalspy.com/categories/music   \n",
       "3  https://forums.digitalspy.com/categories/music   \n",
       "4  https://forums.digitalspy.com/categories/music   \n",
       "\n",
       "                                                url2  struct_score  sem_score  \\\n",
       "0  https://forums.digitalspy.com/discussion/23030...      0.333277   0.340897   \n",
       "1  https://forums.digitalspy.com/discussion/23030...      0.302892   0.394270   \n",
       "2  https://forums.digitalspy.com/categories/music...      0.546303   0.711650   \n",
       "3  https://forums.digitalspy.com/categories/stric...      0.521737   0.759594   \n",
       "4  https://forums.digitalspy.com/categories/music...      0.542990   0.772409   \n",
       "\n",
       "      score  \n",
       "0  0.337087  \n",
       "1  0.348581  \n",
       "2  0.628976  \n",
       "3  0.640665  \n",
       "4  0.657699  "
      ]
     },
     "metadata": {},
     "output_type": "execute_result"
    },
    {
     "data": {
      "text/html": [
       "<div>\n",
       "<style scoped>\n",
       "    .dataframe tbody tr th:only-of-type {\n",
       "        vertical-align: middle;\n",
       "    }\n",
       "\n",
       "    .dataframe tbody tr th {\n",
       "        vertical-align: top;\n",
       "    }\n",
       "\n",
       "    .dataframe thead th {\n",
       "        text-align: right;\n",
       "    }\n",
       "</style>\n",
       "<table border=\"1\" class=\"dataframe\">\n",
       "  <thead>\n",
       "    <tr style=\"text-align: right;\">\n",
       "      <th></th>\n",
       "      <th>url1</th>\n",
       "      <th>url2</th>\n",
       "      <th>struct_score</th>\n",
       "      <th>sem_score</th>\n",
       "      <th>score</th>\n",
       "    </tr>\n",
       "  </thead>\n",
       "  <tbody>\n",
       "    <tr>\n",
       "      <th>114995</th>\n",
       "      <td>https://forums.digitalspy.com/discussion/comme...</td>\n",
       "      <td>https://forums.digitalspy.com/discussion/comme...</td>\n",
       "      <td>0.522134</td>\n",
       "      <td>0.880533</td>\n",
       "      <td>0.701333</td>\n",
       "    </tr>\n",
       "    <tr>\n",
       "      <th>114996</th>\n",
       "      <td>https://forums.digitalspy.com/discussion/comme...</td>\n",
       "      <td>https://forums.digitalspy.com/discussion/comme...</td>\n",
       "      <td>1.000000</td>\n",
       "      <td>1.000000</td>\n",
       "      <td>1.000000</td>\n",
       "    </tr>\n",
       "    <tr>\n",
       "      <th>114997</th>\n",
       "      <td>https://forums.digitalspy.com/discussion/comme...</td>\n",
       "      <td>https://forums.digitalspy.com/discussion/21411...</td>\n",
       "      <td>0.511665</td>\n",
       "      <td>0.848340</td>\n",
       "      <td>0.680002</td>\n",
       "    </tr>\n",
       "    <tr>\n",
       "      <th>114998</th>\n",
       "      <td>https://forums.digitalspy.com/discussion/comme...</td>\n",
       "      <td>https://forums.digitalspy.com/discussion/comme...</td>\n",
       "      <td>1.000000</td>\n",
       "      <td>1.000000</td>\n",
       "      <td>1.000000</td>\n",
       "    </tr>\n",
       "    <tr>\n",
       "      <th>114999</th>\n",
       "      <td>https://forums.digitalspy.com/discussion/comme...</td>\n",
       "      <td>https://forums.digitalspy.com/discussion/comme...</td>\n",
       "      <td>0.522134</td>\n",
       "      <td>0.880533</td>\n",
       "      <td>0.701333</td>\n",
       "    </tr>\n",
       "  </tbody>\n",
       "</table>\n",
       "</div>"
      ],
      "text/plain": [
       "                                                     url1  \\\n",
       "114995  https://forums.digitalspy.com/discussion/comme...   \n",
       "114996  https://forums.digitalspy.com/discussion/comme...   \n",
       "114997  https://forums.digitalspy.com/discussion/comme...   \n",
       "114998  https://forums.digitalspy.com/discussion/comme...   \n",
       "114999  https://forums.digitalspy.com/discussion/comme...   \n",
       "\n",
       "                                                     url2  struct_score  \\\n",
       "114995  https://forums.digitalspy.com/discussion/comme...      0.522134   \n",
       "114996  https://forums.digitalspy.com/discussion/comme...      1.000000   \n",
       "114997  https://forums.digitalspy.com/discussion/21411...      0.511665   \n",
       "114998  https://forums.digitalspy.com/discussion/comme...      1.000000   \n",
       "114999  https://forums.digitalspy.com/discussion/comme...      0.522134   \n",
       "\n",
       "        sem_score     score  \n",
       "114995   0.880533  0.701333  \n",
       "114996   1.000000  1.000000  \n",
       "114997   0.848340  0.680002  \n",
       "114998   1.000000  1.000000  \n",
       "114999   0.880533  0.701333  "
      ]
     },
     "metadata": {},
     "output_type": "execute_result"
    },
    {
     "data": {
      "text/html": [
       "<div>\n",
       "<style scoped>\n",
       "    .dataframe tbody tr th:only-of-type {\n",
       "        vertical-align: middle;\n",
       "    }\n",
       "\n",
       "    .dataframe tbody tr th {\n",
       "        vertical-align: top;\n",
       "    }\n",
       "\n",
       "    .dataframe thead th {\n",
       "        text-align: right;\n",
       "    }\n",
       "</style>\n",
       "<table border=\"1\" class=\"dataframe\">\n",
       "  <thead>\n",
       "    <tr style=\"text-align: right;\">\n",
       "      <th></th>\n",
       "      <th>struct_score</th>\n",
       "      <th>sem_score</th>\n",
       "      <th>score</th>\n",
       "    </tr>\n",
       "  </thead>\n",
       "  <tbody>\n",
       "    <tr>\n",
       "      <th>count</th>\n",
       "      <td>115000.000000</td>\n",
       "      <td>115000.000000</td>\n",
       "      <td>115000.000000</td>\n",
       "    </tr>\n",
       "    <tr>\n",
       "      <th>mean</th>\n",
       "      <td>0.948192</td>\n",
       "      <td>0.930450</td>\n",
       "      <td>0.939321</td>\n",
       "    </tr>\n",
       "    <tr>\n",
       "      <th>std</th>\n",
       "      <td>0.150425</td>\n",
       "      <td>0.230506</td>\n",
       "      <td>0.151776</td>\n",
       "    </tr>\n",
       "    <tr>\n",
       "      <th>min</th>\n",
       "      <td>0.235752</td>\n",
       "      <td>0.000000</td>\n",
       "      <td>0.238465</td>\n",
       "    </tr>\n",
       "    <tr>\n",
       "      <th>25%</th>\n",
       "      <td>1.000000</td>\n",
       "      <td>1.000000</td>\n",
       "      <td>1.000000</td>\n",
       "    </tr>\n",
       "    <tr>\n",
       "      <th>50%</th>\n",
       "      <td>1.000000</td>\n",
       "      <td>1.000000</td>\n",
       "      <td>1.000000</td>\n",
       "    </tr>\n",
       "    <tr>\n",
       "      <th>75%</th>\n",
       "      <td>1.000000</td>\n",
       "      <td>1.000000</td>\n",
       "      <td>1.000000</td>\n",
       "    </tr>\n",
       "    <tr>\n",
       "      <th>max</th>\n",
       "      <td>1.000000</td>\n",
       "      <td>1.000000</td>\n",
       "      <td>1.000000</td>\n",
       "    </tr>\n",
       "  </tbody>\n",
       "</table>\n",
       "</div>"
      ],
      "text/plain": [
       "        struct_score      sem_score          score\n",
       "count  115000.000000  115000.000000  115000.000000\n",
       "mean        0.948192       0.930450       0.939321\n",
       "std         0.150425       0.230506       0.151776\n",
       "min         0.235752       0.000000       0.238465\n",
       "25%         1.000000       1.000000       1.000000\n",
       "50%         1.000000       1.000000       1.000000\n",
       "75%         1.000000       1.000000       1.000000\n",
       "max         1.000000       1.000000       1.000000"
      ]
     },
     "metadata": {},
     "output_type": "execute_result"
    },
    {
     "name": "stdout",
     "output_type": "stream",
     "text": [
      "mozilla\n"
     ]
    },
    {
     "data": {
      "text/html": [
       "<div>\n",
       "<style scoped>\n",
       "    .dataframe tbody tr th:only-of-type {\n",
       "        vertical-align: middle;\n",
       "    }\n",
       "\n",
       "    .dataframe tbody tr th {\n",
       "        vertical-align: top;\n",
       "    }\n",
       "\n",
       "    .dataframe thead th {\n",
       "        text-align: right;\n",
       "    }\n",
       "</style>\n",
       "<table border=\"1\" class=\"dataframe\">\n",
       "  <thead>\n",
       "    <tr style=\"text-align: right;\">\n",
       "      <th></th>\n",
       "      <th>url1</th>\n",
       "      <th>url2</th>\n",
       "      <th>struct_score</th>\n",
       "      <th>sem_score</th>\n",
       "      <th>score</th>\n",
       "    </tr>\n",
       "  </thead>\n",
       "  <tbody>\n",
       "    <tr>\n",
       "      <th>0</th>\n",
       "      <td>http://forums.mozillazine.org/viewtopic.php?f=...</td>\n",
       "      <td>http://forums.mozillazine.org/viewtopic.php?f=...</td>\n",
       "      <td>0.738530</td>\n",
       "      <td>0.716931</td>\n",
       "      <td>0.727730</td>\n",
       "    </tr>\n",
       "    <tr>\n",
       "      <th>1</th>\n",
       "      <td>http://forums.mozillazine.org/viewtopic.php?f=...</td>\n",
       "      <td>http://forums.mozillazine.org/viewtopic.php?f=...</td>\n",
       "      <td>0.616129</td>\n",
       "      <td>0.678836</td>\n",
       "      <td>0.647483</td>\n",
       "    </tr>\n",
       "    <tr>\n",
       "      <th>2</th>\n",
       "      <td>http://forums.mozillazine.org/viewtopic.php?f=...</td>\n",
       "      <td>http://forums.mozillazine.org/viewforum.php?f=...</td>\n",
       "      <td>0.495615</td>\n",
       "      <td>0.490381</td>\n",
       "      <td>0.492998</td>\n",
       "    </tr>\n",
       "    <tr>\n",
       "      <th>3</th>\n",
       "      <td>http://forums.mozillazine.org/viewtopic.php?f=...</td>\n",
       "      <td>http://forums.mozillazine.org/viewtopic.php?f=...</td>\n",
       "      <td>0.879252</td>\n",
       "      <td>0.541495</td>\n",
       "      <td>0.710373</td>\n",
       "    </tr>\n",
       "    <tr>\n",
       "      <th>4</th>\n",
       "      <td>http://forums.mozillazine.org/viewtopic.php?f=...</td>\n",
       "      <td>http://forums.mozillazine.org/viewforum.php?f=...</td>\n",
       "      <td>0.427138</td>\n",
       "      <td>0.318154</td>\n",
       "      <td>0.372646</td>\n",
       "    </tr>\n",
       "  </tbody>\n",
       "</table>\n",
       "</div>"
      ],
      "text/plain": [
       "                                                url1  \\\n",
       "0  http://forums.mozillazine.org/viewtopic.php?f=...   \n",
       "1  http://forums.mozillazine.org/viewtopic.php?f=...   \n",
       "2  http://forums.mozillazine.org/viewtopic.php?f=...   \n",
       "3  http://forums.mozillazine.org/viewtopic.php?f=...   \n",
       "4  http://forums.mozillazine.org/viewtopic.php?f=...   \n",
       "\n",
       "                                                url2  struct_score  sem_score  \\\n",
       "0  http://forums.mozillazine.org/viewtopic.php?f=...      0.738530   0.716931   \n",
       "1  http://forums.mozillazine.org/viewtopic.php?f=...      0.616129   0.678836   \n",
       "2  http://forums.mozillazine.org/viewforum.php?f=...      0.495615   0.490381   \n",
       "3  http://forums.mozillazine.org/viewtopic.php?f=...      0.879252   0.541495   \n",
       "4  http://forums.mozillazine.org/viewforum.php?f=...      0.427138   0.318154   \n",
       "\n",
       "      score  \n",
       "0  0.727730  \n",
       "1  0.647483  \n",
       "2  0.492998  \n",
       "3  0.710373  \n",
       "4  0.372646  "
      ]
     },
     "metadata": {},
     "output_type": "execute_result"
    },
    {
     "data": {
      "text/html": [
       "<div>\n",
       "<style scoped>\n",
       "    .dataframe tbody tr th:only-of-type {\n",
       "        vertical-align: middle;\n",
       "    }\n",
       "\n",
       "    .dataframe tbody tr th {\n",
       "        vertical-align: top;\n",
       "    }\n",
       "\n",
       "    .dataframe thead th {\n",
       "        text-align: right;\n",
       "    }\n",
       "</style>\n",
       "<table border=\"1\" class=\"dataframe\">\n",
       "  <thead>\n",
       "    <tr style=\"text-align: right;\">\n",
       "      <th></th>\n",
       "      <th>url1</th>\n",
       "      <th>url2</th>\n",
       "      <th>struct_score</th>\n",
       "      <th>sem_score</th>\n",
       "      <th>score</th>\n",
       "    </tr>\n",
       "  </thead>\n",
       "  <tbody>\n",
       "    <tr>\n",
       "      <th>150624</th>\n",
       "      <td>http://forums.mozillazine.org/viewtopic.php?p=...</td>\n",
       "      <td>http://forums.mozillazine.org/viewtopic.php?f=...</td>\n",
       "      <td>0.659385</td>\n",
       "      <td>0.875975</td>\n",
       "      <td>0.767680</td>\n",
       "    </tr>\n",
       "    <tr>\n",
       "      <th>150625</th>\n",
       "      <td>http://forums.mozillazine.org/viewtopic.php?p=...</td>\n",
       "      <td>http://forums.mozillazine.org/viewtopic.php?f=...</td>\n",
       "      <td>0.636912</td>\n",
       "      <td>0.859489</td>\n",
       "      <td>0.748200</td>\n",
       "    </tr>\n",
       "    <tr>\n",
       "      <th>150626</th>\n",
       "      <td>http://forums.mozillazine.org/viewtopic.php?p=...</td>\n",
       "      <td>http://forums.mozillazine.org/posting.php?mode...</td>\n",
       "      <td>0.250071</td>\n",
       "      <td>0.448626</td>\n",
       "      <td>0.349348</td>\n",
       "    </tr>\n",
       "    <tr>\n",
       "      <th>150627</th>\n",
       "      <td>http://forums.mozillazine.org/viewtopic.php?p=...</td>\n",
       "      <td>http://forums.mozillazine.org/viewtopic.php?f=...</td>\n",
       "      <td>1.000000</td>\n",
       "      <td>1.000000</td>\n",
       "      <td>1.000000</td>\n",
       "    </tr>\n",
       "    <tr>\n",
       "      <th>150628</th>\n",
       "      <td>http://forums.mozillazine.org/viewtopic.php?p=...</td>\n",
       "      <td>http://forums.mozillazine.org/viewtopic.php?t=...</td>\n",
       "      <td>1.000000</td>\n",
       "      <td>1.000000</td>\n",
       "      <td>1.000000</td>\n",
       "    </tr>\n",
       "  </tbody>\n",
       "</table>\n",
       "</div>"
      ],
      "text/plain": [
       "                                                     url1  \\\n",
       "150624  http://forums.mozillazine.org/viewtopic.php?p=...   \n",
       "150625  http://forums.mozillazine.org/viewtopic.php?p=...   \n",
       "150626  http://forums.mozillazine.org/viewtopic.php?p=...   \n",
       "150627  http://forums.mozillazine.org/viewtopic.php?p=...   \n",
       "150628  http://forums.mozillazine.org/viewtopic.php?p=...   \n",
       "\n",
       "                                                     url2  struct_score  \\\n",
       "150624  http://forums.mozillazine.org/viewtopic.php?f=...      0.659385   \n",
       "150625  http://forums.mozillazine.org/viewtopic.php?f=...      0.636912   \n",
       "150626  http://forums.mozillazine.org/posting.php?mode...      0.250071   \n",
       "150627  http://forums.mozillazine.org/viewtopic.php?f=...      1.000000   \n",
       "150628  http://forums.mozillazine.org/viewtopic.php?t=...      1.000000   \n",
       "\n",
       "        sem_score     score  \n",
       "150624   0.875975  0.767680  \n",
       "150625   0.859489  0.748200  \n",
       "150626   0.448626  0.349348  \n",
       "150627   1.000000  1.000000  \n",
       "150628   1.000000  1.000000  "
      ]
     },
     "metadata": {},
     "output_type": "execute_result"
    },
    {
     "data": {
      "text/html": [
       "<div>\n",
       "<style scoped>\n",
       "    .dataframe tbody tr th:only-of-type {\n",
       "        vertical-align: middle;\n",
       "    }\n",
       "\n",
       "    .dataframe tbody tr th {\n",
       "        vertical-align: top;\n",
       "    }\n",
       "\n",
       "    .dataframe thead th {\n",
       "        text-align: right;\n",
       "    }\n",
       "</style>\n",
       "<table border=\"1\" class=\"dataframe\">\n",
       "  <thead>\n",
       "    <tr style=\"text-align: right;\">\n",
       "      <th></th>\n",
       "      <th>struct_score</th>\n",
       "      <th>sem_score</th>\n",
       "      <th>score</th>\n",
       "    </tr>\n",
       "  </thead>\n",
       "  <tbody>\n",
       "    <tr>\n",
       "      <th>count</th>\n",
       "      <td>150629.000000</td>\n",
       "      <td>150629.000000</td>\n",
       "      <td>150629.000000</td>\n",
       "    </tr>\n",
       "    <tr>\n",
       "      <th>mean</th>\n",
       "      <td>0.873622</td>\n",
       "      <td>0.914973</td>\n",
       "      <td>0.894298</td>\n",
       "    </tr>\n",
       "    <tr>\n",
       "      <th>std</th>\n",
       "      <td>0.231625</td>\n",
       "      <td>0.167706</td>\n",
       "      <td>0.194517</td>\n",
       "    </tr>\n",
       "    <tr>\n",
       "      <th>min</th>\n",
       "      <td>0.042254</td>\n",
       "      <td>0.036146</td>\n",
       "      <td>0.146781</td>\n",
       "    </tr>\n",
       "    <tr>\n",
       "      <th>25%</th>\n",
       "      <td>0.719703</td>\n",
       "      <td>0.886736</td>\n",
       "      <td>0.778956</td>\n",
       "    </tr>\n",
       "    <tr>\n",
       "      <th>50%</th>\n",
       "      <td>1.000000</td>\n",
       "      <td>1.000000</td>\n",
       "      <td>1.000000</td>\n",
       "    </tr>\n",
       "    <tr>\n",
       "      <th>75%</th>\n",
       "      <td>1.000000</td>\n",
       "      <td>1.000000</td>\n",
       "      <td>1.000000</td>\n",
       "    </tr>\n",
       "    <tr>\n",
       "      <th>max</th>\n",
       "      <td>1.000000</td>\n",
       "      <td>1.000000</td>\n",
       "      <td>1.000000</td>\n",
       "    </tr>\n",
       "  </tbody>\n",
       "</table>\n",
       "</div>"
      ],
      "text/plain": [
       "        struct_score      sem_score          score\n",
       "count  150629.000000  150629.000000  150629.000000\n",
       "mean        0.873622       0.914973       0.894298\n",
       "std         0.231625       0.167706       0.194517\n",
       "min         0.042254       0.036146       0.146781\n",
       "25%         0.719703       0.886736       0.778956\n",
       "50%         1.000000       1.000000       1.000000\n",
       "75%         1.000000       1.000000       1.000000\n",
       "max         1.000000       1.000000       1.000000"
      ]
     },
     "metadata": {},
     "output_type": "execute_result"
    },
    {
     "data": {
      "text/plain": [
       "[<matplotlib.axis.XTick at 0x7fa6f2ca7ef0>,\n",
       " <matplotlib.axis.XTick at 0x7fa6f2ca7780>,\n",
       " <matplotlib.axis.XTick at 0x7fa6f2ca74e0>,\n",
       " <matplotlib.axis.XTick at 0x7fa6f136ba90>]"
      ]
     },
     "execution_count": 13,
     "metadata": {},
     "output_type": "execute_result"
    },
    {
     "data": {
      "text/plain": [
       "[Text(0,0,'ubuntu'),\n",
       " Text(0,0,'bodybuilding'),\n",
       " Text(0,0,'digitalspy'),\n",
       " Text(0,0,'mozilla')]"
      ]
     },
     "execution_count": 13,
     "metadata": {},
     "output_type": "execute_result"
    },
    {
     "data": {
      "text/plain": [
       "[Text(0,0.5,'Similarity Score'), Text(0.5,0,'Dataset')]"
      ]
     },
     "execution_count": 13,
     "metadata": {},
     "output_type": "execute_result"
    },
    {
     "data": {
      "text/plain": [
       "Text(0.5,1,'Similarity scores violinplot')"
      ]
     },
     "execution_count": 13,
     "metadata": {},
     "output_type": "execute_result"
    },
    {
     "data": {
      "text/plain": [
       "<Figure size 1200x800 with 0 Axes>"
      ]
     },
     "metadata": {},
     "output_type": "display_data"
    },
    {
     "data": {
      "image/png": "[encoded data removed]",
      "text/plain": [
       "<Figure size 720x720 with 1 Axes>"
      ]
     },
     "metadata": {},
     "output_type": "display_data"
    }
   ],
   "source": [
    "from matplotlib.pyplot import figure\n",
    "figure(num=None, figsize=(15, 10), dpi=80);\n",
    "for k,v in datasets.items():\n",
    "    print(k)\n",
    "    display(v.head())\n",
    "    display(v.tail())\n",
    "    display(v.describe())\n",
    "    \n",
    "fig,ax = plt.subplots(figsize=(10, 10))\n",
    "sns.set_style(\"darkgrid\")\n",
    "for ii,x in enumerate(datasets.values()):\n",
    "    vp = ax.violinplot(x[\"score\"],positions=[ii]);\n",
    "    color = vp['cbars'].get_color()[0]\n",
    "ax.set_xticks(np.arange(len(datasets)));\n",
    "ax.set_xticklabels(list(datasets.keys()));\n",
    "ax.set(xlabel='Dataset', ylabel='Similarity Score')\n",
    "ax.set_title(\"Similarity scores violinplot\")\n",
    "fig.savefig(\"violinplot.png\")"
   ]
  },
  {
   "cell_type": "markdown",
   "metadata": {},
   "source": [
    "In this chart we combine both URL pairs together to analyze how much each URL is used."
   ]
  },
  {
   "cell_type": "code",
   "execution_count": 17,
   "metadata": {},
   "outputs": [
    {
     "name": "stderr",
     "output_type": "stream",
     "text": [
      "/root/anaconda3/lib/python3.6/site-packages/matplotlib/axes/_axes.py:6462: UserWarning: The 'normed' kwarg is deprecated, and has been replaced by the 'density' kwarg.\n",
      "  warnings.warn(\"The 'normed' kwarg is deprecated, and has been \"\n"
     ]
    },
    {
     "data": {
      "text/plain": [
       "[Text(0,0.5,'Amount'), Text(0.5,0,'Value Count')]"
      ]
     },
     "execution_count": 17,
     "metadata": {},
     "output_type": "execute_result"
    },
    {
     "data": {
      "text/plain": [
       "Text(0.5,1,'Url values count')"
      ]
     },
     "execution_count": 17,
     "metadata": {},
     "output_type": "execute_result"
    },
    {
     "data": {
      "image/png": "[encoded data removed]",
      "text/plain": [
       "<Figure size 576x576 with 1 Axes>"
      ]
     },
     "metadata": {},
     "output_type": "display_data"
    }
   ],
   "source": [
    "def analyze_mentions(name, df):\n",
    "    both_urls = df['url1'].append(df['url2'])\n",
    "    \n",
    "    counts = both_urls.value_counts()\n",
    "    ax = sns.distplot(counts, label=name )\n",
    "    plt.legend()\n",
    "    return ax\n",
    "\n",
    "fig = plt.figure(figsize=(8,8))    \n",
    "for k,v in datasets.items():\n",
    "    ax = analyze_mentions(k, v)\n",
    "ax.set(xlabel='Value Count', ylabel='Amount')\n",
    "ax.set_title(\"Url values count\")\n",
    "plt.savefig(\"url_counts.png\")"
   ]
  },
  {
   "cell_type": "markdown",
   "metadata": {},
   "source": [
    "### 2. Data Preparation"
   ]
  },
  {
   "cell_type": "markdown",
   "metadata": {},
   "source": [
    "The following code will convert the scores data into either one or zero using a threshold of .99 on the semantic similairty score."
   ]
  },
  {
   "cell_type": "code",
   "execution_count": 6,
   "metadata": {},
   "outputs": [],
   "source": [
    "def get_training_sets(df):\n",
    "    ones = df.loc[(df['sem_score'] >= .99)]\n",
    "    ones = ones.drop([\"sem_score\", \"struct_score\"], axis=1)\n",
    "    ones['score'] = 1\n",
    "    diffs = df.loc[(df['sem_score'] < .99)]\n",
    "    diffs = diffs.drop([\"sem_score\", \"struct_score\"], axis=1)\n",
    "    diffs['score'] = 0\n",
    "    \n",
    "    if ones.shape[0] < diffs.shape[0]:\n",
    "        diffs = diffs.sample(n=ones.shape[0], random_state=42)\n",
    "    else:\n",
    "        ones = ones.sample(n=diffs.shape[0], random_state=42)\n",
    "    \n",
    "    tt_set = pd.DataFrame(columns=[\"url1\", \"url2\", \"score\"])\n",
    "    tt_set = pd.concat([ones, diffs])\n",
    "    return tt_set"
   ]
  },
  {
   "cell_type": "markdown",
   "metadata": {},
   "source": [
    "After that, we iterate over each dataset, calculate difference between the lengths for the URLs and for their actual content."
   ]
  },
  {
   "cell_type": "code",
   "execution_count": 13,
   "metadata": {},
   "outputs": [
    {
     "name": "stdout",
     "output_type": "stream",
     "text": [
      "ubuntu\n",
      "bodybuilding\n",
      "digitalspy\n",
      "mozilla\n"
     ]
    }
   ],
   "source": [
    "\n",
    "training_sets = {}\n",
    "\n",
    "for i, dataset in enumerate(datasets.items()):\n",
    "    name, df = dataset\n",
    "    print(name)\n",
    "    cl_df = content_lengths[name]\n",
    "    ts = get_training_sets(df)\n",
    "    ts = ts.reset_index(drop=True)\n",
    "    \n",
    "    ts['url_diffs'] = abs(df['url2'].str.len() - df['url1'].str.len())\n",
    "    ts['content_diffs'] = np.nan\n",
    "    \n",
    "    for index, row in ts.iterrows():\n",
    "        cl_row1 = cl_df.loc[cl_df['url'] == row['url1']]\n",
    "        if cl_row1.empty: continue\n",
    "        cl_row2 = cl_df.loc[cl_df['url'] == row['url2']]\n",
    "        if cl_row2.empty: continue\n",
    "        \n",
    "        ts.loc[index, 'content_diffs'] = abs(cl_row1['LENGTH(content_text)'].iloc[0] - cl_row2['LENGTH(content_text)'].iloc[0])\n",
    "\n",
    "    training_sets[name] = ts\n",
    "    ts.to_csv(\"trainingsets/\"+name+'.csv',)\n"
   ]
  },
  {
   "cell_type": "code",
   "execution_count": 19,
   "metadata": {},
   "outputs": [
    {
     "name": "stdout",
     "output_type": "stream",
     "text": [
      "ubuntu\n"
     ]
    },
    {
     "name": "stderr",
     "output_type": "stream",
     "text": [
      "/root/anaconda3/lib/python3.6/site-packages/matplotlib/axes/_axes.py:6462: UserWarning: The 'normed' kwarg is deprecated, and has been replaced by the 'density' kwarg.\n",
      "  warnings.warn(\"The 'normed' kwarg is deprecated, and has been \"\n"
     ]
    },
    {
     "data": {
      "text/plain": [
       "<matplotlib.axes._subplots.AxesSubplot at 0x7fa6f1863208>"
      ]
     },
     "execution_count": 19,
     "metadata": {},
     "output_type": "execute_result"
    },
    {
     "data": {
      "text/plain": [
       "<matplotlib.axes._subplots.AxesSubplot at 0x7fa6f1863208>"
      ]
     },
     "execution_count": 19,
     "metadata": {},
     "output_type": "execute_result"
    },
    {
     "data": {
      "text/plain": [
       "<matplotlib.legend.Legend at 0x7fa6ed0ee208>"
      ]
     },
     "execution_count": 19,
     "metadata": {},
     "output_type": "execute_result"
    },
    {
     "data": {
      "text/plain": [
       "[Text(0,0.5,'Count'), Text(0.5,0,'Url Length Difference')]"
      ]
     },
     "execution_count": 19,
     "metadata": {},
     "output_type": "execute_result"
    },
    {
     "data": {
      "text/plain": [
       "Text(0.5,1,'ubuntu')"
      ]
     },
     "execution_count": 19,
     "metadata": {},
     "output_type": "execute_result"
    },
    {
     "name": "stdout",
     "output_type": "stream",
     "text": [
      "bodybuilding\n"
     ]
    },
    {
     "data": {
      "text/plain": [
       "<matplotlib.axes._subplots.AxesSubplot at 0x7fa6eee11e10>"
      ]
     },
     "execution_count": 19,
     "metadata": {},
     "output_type": "execute_result"
    },
    {
     "data": {
      "text/plain": [
       "<matplotlib.axes._subplots.AxesSubplot at 0x7fa6eee11e10>"
      ]
     },
     "execution_count": 19,
     "metadata": {},
     "output_type": "execute_result"
    },
    {
     "data": {
      "text/plain": [
       "<matplotlib.legend.Legend at 0x7fa6ed033f28>"
      ]
     },
     "execution_count": 19,
     "metadata": {},
     "output_type": "execute_result"
    },
    {
     "data": {
      "text/plain": [
       "[Text(0,0.5,'Count'), Text(0.5,0,'Url Length Difference')]"
      ]
     },
     "execution_count": 19,
     "metadata": {},
     "output_type": "execute_result"
    },
    {
     "data": {
      "text/plain": [
       "Text(0.5,1,'bodybuilding')"
      ]
     },
     "execution_count": 19,
     "metadata": {},
     "output_type": "execute_result"
    },
    {
     "name": "stdout",
     "output_type": "stream",
     "text": [
      "digitalspy\n"
     ]
    },
    {
     "data": {
      "text/plain": [
       "<matplotlib.axes._subplots.AxesSubplot at 0x7fa6ed3365f8>"
      ]
     },
     "execution_count": 19,
     "metadata": {},
     "output_type": "execute_result"
    },
    {
     "data": {
      "text/plain": [
       "<matplotlib.axes._subplots.AxesSubplot at 0x7fa6ed3365f8>"
      ]
     },
     "execution_count": 19,
     "metadata": {},
     "output_type": "execute_result"
    },
    {
     "data": {
      "text/plain": [
       "<matplotlib.legend.Legend at 0x7fa6ecf73630>"
      ]
     },
     "execution_count": 19,
     "metadata": {},
     "output_type": "execute_result"
    },
    {
     "data": {
      "text/plain": [
       "[Text(0,0.5,'Count'), Text(0.5,0,'Url Length Difference')]"
      ]
     },
     "execution_count": 19,
     "metadata": {},
     "output_type": "execute_result"
    },
    {
     "data": {
      "text/plain": [
       "Text(0.5,1,'digitalspy')"
      ]
     },
     "execution_count": 19,
     "metadata": {},
     "output_type": "execute_result"
    },
    {
     "name": "stdout",
     "output_type": "stream",
     "text": [
      "mozilla\n"
     ]
    },
    {
     "data": {
      "text/plain": [
       "<matplotlib.axes._subplots.AxesSubplot at 0x7fa6ed2d4f28>"
      ]
     },
     "execution_count": 19,
     "metadata": {},
     "output_type": "execute_result"
    },
    {
     "data": {
      "text/plain": [
       "<matplotlib.axes._subplots.AxesSubplot at 0x7fa6ed2d4f28>"
      ]
     },
     "execution_count": 19,
     "metadata": {},
     "output_type": "execute_result"
    },
    {
     "data": {
      "text/plain": [
       "<matplotlib.legend.Legend at 0x7fa6eceb67f0>"
      ]
     },
     "execution_count": 19,
     "metadata": {},
     "output_type": "execute_result"
    },
    {
     "data": {
      "text/plain": [
       "[Text(0,0.5,'Count'), Text(0.5,0,'Url Length Difference')]"
      ]
     },
     "execution_count": 19,
     "metadata": {},
     "output_type": "execute_result"
    },
    {
     "data": {
      "text/plain": [
       "Text(0.5,1,'mozilla')"
      ]
     },
     "execution_count": 19,
     "metadata": {},
     "output_type": "execute_result"
    },
    {
     "data": {
      "image/png": "[encoded data removed]",
      "text/plain": [
       "<Figure size 1440x720 with 4 Axes>"
      ]
     },
     "metadata": {},
     "output_type": "display_data"
    }
   ],
   "source": [
    "# plotting URL length differences\n",
    "\n",
    "fig, axes = plt.subplots(2, 2, figsize=(20, 10), sharex=True)\n",
    "sns.set_palette(current_palette)\n",
    "    \n",
    "for i, dataset in enumerate(datasets.items()):\n",
    "    name, df = dataset\n",
    "    print(name)\n",
    "    ts = pd.read_csv(\"trainingsets/\"+name+\".csv\")\n",
    "\n",
    "    bin_i = bin(i)[2:]\n",
    "    if len(bin_i) == 1:\n",
    "        bin_i = '0' + bin_i\n",
    "    current_ax = axes[int(bin_i[0])][int(bin_i[1])]\n",
    "    \n",
    "    sns.distplot(ts.loc[ts['score'] == 1][\"url_diffs\"], label=\"Identical\",  kde=False,  ax=current_ax);\n",
    "    sns.distplot(ts.loc[ts['score'] == 0][\"url_diffs\"],  label=\"Different\", kde=False,  ax=current_ax);\n",
    "    current_ax.legend()\n",
    "    current_ax.set(xlabel='Url Length Difference', ylabel='Count')\n",
    "    current_ax.set_title(name)\n",
    "\n",
    "fig.savefig(\"len_url_diffs.png\")"
   ]
  },
  {
   "cell_type": "code",
   "execution_count": 20,
   "metadata": {},
   "outputs": [
    {
     "name": "stdout",
     "output_type": "stream",
     "text": [
      "ubuntu\n"
     ]
    },
    {
     "name": "stderr",
     "output_type": "stream",
     "text": [
      "/root/anaconda3/lib/python3.6/site-packages/matplotlib/axes/_axes.py:6462: UserWarning: The 'normed' kwarg is deprecated, and has been replaced by the 'density' kwarg.\n",
      "  warnings.warn(\"The 'normed' kwarg is deprecated, and has been \"\n"
     ]
    },
    {
     "data": {
      "text/plain": [
       "<matplotlib.axes._subplots.AxesSubplot at 0x7fa6ed0a1f60>"
      ]
     },
     "execution_count": 20,
     "metadata": {},
     "output_type": "execute_result"
    },
    {
     "data": {
      "text/plain": [
       "<matplotlib.axes._subplots.AxesSubplot at 0x7fa6ed0a1f60>"
      ]
     },
     "execution_count": 20,
     "metadata": {},
     "output_type": "execute_result"
    },
    {
     "data": {
      "text/plain": [
       "<matplotlib.legend.Legend at 0x7fa6ec8a1cf8>"
      ]
     },
     "execution_count": 20,
     "metadata": {},
     "output_type": "execute_result"
    },
    {
     "data": {
      "text/plain": [
       "[Text(0,0.5,'Count'), Text(0.5,0,'Content Length Difference')]"
      ]
     },
     "execution_count": 20,
     "metadata": {},
     "output_type": "execute_result"
    },
    {
     "data": {
      "text/plain": [
       "Text(0.5,1,'ubuntu')"
      ]
     },
     "execution_count": 20,
     "metadata": {},
     "output_type": "execute_result"
    },
    {
     "name": "stdout",
     "output_type": "stream",
     "text": [
      "bodybuilding\n"
     ]
    },
    {
     "data": {
      "text/plain": [
       "<matplotlib.axes._subplots.AxesSubplot at 0x7fa6ec9b3ef0>"
      ]
     },
     "execution_count": 20,
     "metadata": {},
     "output_type": "execute_result"
    },
    {
     "data": {
      "text/plain": [
       "<matplotlib.axes._subplots.AxesSubplot at 0x7fa6ec9b3ef0>"
      ]
     },
     "execution_count": 20,
     "metadata": {},
     "output_type": "execute_result"
    },
    {
     "data": {
      "text/plain": [
       "<matplotlib.legend.Legend at 0x7fa6f04ffd68>"
      ]
     },
     "execution_count": 20,
     "metadata": {},
     "output_type": "execute_result"
    },
    {
     "data": {
      "text/plain": [
       "[Text(0,0.5,'Count'), Text(0.5,0,'Content Length Difference')]"
      ]
     },
     "execution_count": 20,
     "metadata": {},
     "output_type": "execute_result"
    },
    {
     "data": {
      "text/plain": [
       "Text(0.5,1,'bodybuilding')"
      ]
     },
     "execution_count": 20,
     "metadata": {},
     "output_type": "execute_result"
    },
    {
     "name": "stdout",
     "output_type": "stream",
     "text": [
      "digitalspy\n"
     ]
    },
    {
     "data": {
      "text/plain": [
       "<matplotlib.axes._subplots.AxesSubplot at 0x7fa6ec8df780>"
      ]
     },
     "execution_count": 20,
     "metadata": {},
     "output_type": "execute_result"
    },
    {
     "data": {
      "text/plain": [
       "<matplotlib.axes._subplots.AxesSubplot at 0x7fa6ec8df780>"
      ]
     },
     "execution_count": 20,
     "metadata": {},
     "output_type": "execute_result"
    },
    {
     "data": {
      "text/plain": [
       "<matplotlib.legend.Legend at 0x7fa6efe15f98>"
      ]
     },
     "execution_count": 20,
     "metadata": {},
     "output_type": "execute_result"
    },
    {
     "data": {
      "text/plain": [
       "[Text(0,0.5,'Count'), Text(0.5,0,'Content Length Difference')]"
      ]
     },
     "execution_count": 20,
     "metadata": {},
     "output_type": "execute_result"
    },
    {
     "data": {
      "text/plain": [
       "Text(0.5,1,'digitalspy')"
      ]
     },
     "execution_count": 20,
     "metadata": {},
     "output_type": "execute_result"
    },
    {
     "name": "stdout",
     "output_type": "stream",
     "text": [
      "mozilla\n"
     ]
    },
    {
     "data": {
      "text/plain": [
       "<matplotlib.axes._subplots.AxesSubplot at 0x7fa6ec9030b8>"
      ]
     },
     "execution_count": 20,
     "metadata": {},
     "output_type": "execute_result"
    },
    {
     "data": {
      "text/plain": [
       "<matplotlib.axes._subplots.AxesSubplot at 0x7fa6ec9030b8>"
      ]
     },
     "execution_count": 20,
     "metadata": {},
     "output_type": "execute_result"
    },
    {
     "data": {
      "text/plain": [
       "<matplotlib.legend.Legend at 0x7fa6f0054390>"
      ]
     },
     "execution_count": 20,
     "metadata": {},
     "output_type": "execute_result"
    },
    {
     "data": {
      "text/plain": [
       "[Text(0,0.5,'Count'), Text(0.5,0,'Content Length Difference')]"
      ]
     },
     "execution_count": 20,
     "metadata": {},
     "output_type": "execute_result"
    },
    {
     "data": {
      "text/plain": [
       "Text(0.5,1,'mozilla')"
      ]
     },
     "execution_count": 20,
     "metadata": {},
     "output_type": "execute_result"
    },
    {
     "data": {
      "image/png": "[encoded data removed]",
      "text/plain": [
       "<Figure size 1440x720 with 4 Axes>"
      ]
     },
     "metadata": {},
     "output_type": "display_data"
    }
   ],
   "source": [
    "# plotting Content length differences\n",
    "fig, axes = plt.subplots(2, 2, figsize=(20, 10), sharex=True)\n",
    "sns.set_palette(current_palette)\n",
    "    \n",
    "for i, dataset in enumerate(datasets.items()):\n",
    "    name, df = dataset\n",
    "    print(name)\n",
    "    ts = pd.read_csv(\"trainingsets/\"+name+\".csv\")\n",
    "    ts = ts[np.isfinite(ts['content_diffs'])]\n",
    "    ts['co_diffs_log'] = np.log(ts['content_diffs'])\n",
    "    ts['co_diffs_log'] = ts['co_diffs_log'].replace(-np.inf, 0)\n",
    "\n",
    "    bin_i = bin(i)[2:]\n",
    "    if len(bin_i) == 1:\n",
    "        bin_i = '0' + bin_i\n",
    "    current_ax = axes[int(bin_i[0])][int(bin_i[1])]\n",
    "\n",
    "    sns.distplot(ts.loc[ts['score'] == 1][\"co_diffs_log\"], label=\"Identical\",  kde=False,  ax=current_ax);\n",
    "    sns.distplot(ts.loc[ts['score'] == 0][\"co_diffs_log\"],  label=\"Different\", kde=False,  ax=current_ax);\n",
    "    current_ax.legend()\n",
    "    current_ax.set(xlabel='Content Length Difference', ylabel='Count')\n",
    "    current_ax.set_title(name)\n",
    "\n",
    "fig.savefig(\"len_content_diffs.png\")"
   ]
  }
 ],
 "metadata": {
  "kernelspec": {
   "display_name": "Python 3",
   "language": "python",
   "name": "python3"
  },
  "language_info": {
   "codemirror_mode": {
    "name": "ipython",
    "version": 3
   },
   "file_extension": ".py",
   "mimetype": "text/x-python",
   "name": "python",
   "nbconvert_exporter": "python",
   "pygments_lexer": "ipython3",
   "version": "3.6.4"
  }
 },
 "nbformat": 4,
 "nbformat_minor": 2
}
